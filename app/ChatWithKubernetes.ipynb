{
  "nbformat": 4,
  "nbformat_minor": 5,
  "metadata": {
    "noteable-chatgpt": {
      "create_notebook": {
        "openai_conversation_id": "e461c257-1547-533b-83b4-a88bcb0649ab",
        "openai_ephemeral_user_id": "fcde23fb-59fb-5d48-bbc8-2b6730f1c618",
        "openai_subdivision1_iso_code": "US-WA"
      }
    },
    "kernel_info": {
      "name": "python3"
    },
    "kernelspec": {
      "display_name": "Python 3.9",
      "language": "python",
      "name": "python3"
    },
    "selected_hardware_size": "small"
  },
  "cells": [
    {
      "id": "908e9309-3047-46f4-9428-cdd31e38456d",
      "cell_type": "code",
      "metadata": {
        "noteable": {
          "cell_type": "code",
          "output_collection_id": "e58fd343-b079-4193-a3c1-d807bf69ba8a"
        },
        "ExecuteTime": {
          "end_time": "2023-09-07T12:25:17.004549+00:00",
          "start_time": "2023-09-07T12:25:12.989876+00:00"
        }
      },
      "execution_count": null,
      "source": "!mkdir -p ChatWithKubernetes/cmd/chatwithkubernetes\n!mkdir -p ChatWithKubernetes/pkg/gpt\n!mkdir -p ChatWithKubernetes/pkg/kubectl\n!mkdir -p ChatWithKubernetes/api\n!touch ChatWithKubernetes/cmd/chatwithkubernetes/main.go\n!touch ChatWithKubernetes/pkg/gpt/gpt.go\n!touch ChatWithKubernetes/pkg/gpt/gpt_test.go\n!touch ChatWithKubernetes/pkg/kubectl/kubectl.go\n!touch ChatWithKubernetes/pkg/kubectl/kubectl_test.go\n!touch ChatWithKubernetes/api/openapi.yaml\n!touch ChatWithKubernetes/Dockerfile\n!touch ChatWithKubernetes/go.mod\n!touch ChatWithKubernetes/README.md",
      "outputs": []
    },
    {
      "id": "fe908c2a-f4ad-4747-897e-eb3052bd43b7",
      "cell_type": "code",
      "metadata": {
        "noteable": {
          "cell_type": "code"
        }
      },
      "execution_count": null,
      "source": "!cat <<EOF > ChatWithKubernetes/cmd/chatwithkubernetes/main.go\npackage main\n\nfunc main() {\n    // TODO: Implement main logic\n}\nEOF",
      "outputs": []
    },
    {
      "id": "cde0012b-6789-4cf9-aeb2-a53a96639588",
      "cell_type": "code",
      "metadata": {
        "noteable": {
          "cell_type": "code"
        }
      },
      "execution_count": null,
      "source": "!cat <<EOF > ChatWithKubernetes/pkg/gpt/gpt.go\npackage gpt\n\n// TODO: Implement GPT logic to generate kubectl commands\nEOF",
      "outputs": []
    },
    {
      "id": "e6b53a65-4144-4c27-a7e3-08bb10bca796",
      "cell_type": "code",
      "metadata": {
        "noteable": {
          "cell_type": "code"
        }
      },
      "execution_count": null,
      "source": "!cat <<EOF > ChatWithKubernetes/pkg/kubectl/kubectl.go\npackage kubectl\n\n// TODO: Implement logic to execute kubectl commands\nEOF",
      "outputs": []
    },
    {
      "id": "91d743bb-8e6c-4ea9-b512-e38646fb2bb4",
      "cell_type": "code",
      "metadata": {
        "noteable": {
          "cell_type": "code"
        }
      },
      "execution_count": null,
      "source": "!cat <<EOF > ChatWithKubernetes/api/openapi.yaml\nopenapi: 3.0.0\ninfo:\n  version: 1.0.0\n  title: ChatWithKubernetes API\n  description: API to generate and run kubectl commands using GPT OpenAI completions.\npaths:\n  /generate:\n    post:\n      summary: Generate kubectl command\n      requestBody:\n        required: true\n        content:\n          application/json:\n            schema:\n              type: object\n              properties:\n                query:\n                  type: string\n                  description: Natural language input to generate kubectl command.\n      responses:\n        '200':\n          description: Successfully generated kubectl command.\n          content:\n            application/json:\n              schema:\n                type: object\n                properties:\n                  command:\n                    type: string\n                    description: Generated kubectl command.\n  /execute:\n    post:\n      summary: Execute kubectl command\n      requestBody:\n        required: true\n        content:\n          application/json:\n            schema:\n              type: object\n              properties:\n                command:\n                  type: string\n                  description: kubectl command to execute.\n      responses:\n        '200':\n          description: Successfully executed kubectl command.\n          content:\n            application/json:\n              schema:\n                type: object\n                properties:\n                  output:\n                    type: string\n                    description: Output of the executed kubectl command.\nEOF",
      "outputs": []
    },
    {
      "id": "085681a0-71a9-47d0-a84e-f8a4d275c27f",
      "cell_type": "code",
      "metadata": {
        "noteable": {
          "cell_type": "code"
        }
      },
      "execution_count": null,
      "source": "!cat <<EOF > ChatWithKubernetes/Dockerfile\n# Use an official Go runtime as the parent image\nFROM golang:1.16\n\n# Set the working directory in the container\nWORKDIR /go/src/app\n\n# Copy the current directory contents into the container at /go/src/app\nCOPY . .\n\n# Build the Go app\nRUN go build -o main .\n\n# Run main.go when the container launches\nCMD [\"./main\"]\nEOF",
      "outputs": []
    },
    {
      "id": "27499013-0ec7-45df-8c20-db20fe9bc428",
      "cell_type": "code",
      "metadata": {
        "noteable": {
          "cell_type": "code"
        }
      },
      "execution_count": null,
      "source": "!cat <<EOF > ChatWithKubernetes/README.md\n# ChatWithKubernetes Plugin\n\nThis plugin allows users to generate and run `kubectl` commands using GPT OpenAI completions.\n\n## Setup\n\n1. Build the Docker image: `docker build -t chatwithkubernetes .`\n2. Run the Docker container: `docker run -p 8080:8080 chatwithkubernetes`\n\n## API Endpoints\n\n- `/generate`: Accepts a natural language query and returns the generated `kubectl` command.\n- `/execute`: Accepts a `kubectl` command and returns the output after execution.\nEOF",
      "outputs": []
    }
  ]
}