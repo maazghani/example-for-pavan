{
  "nbformat": 4,
  "nbformat_minor": 5,
  "metadata": {
    "noteable-chatgpt": {
      "create_notebook": {
        "openai_conversation_id": "6db0e134-4048-5274-aab0-5a44197fd6d0",
        "openai_ephemeral_user_id": "9b725dc9-cfe9-56c9-872f-b327574f6485",
        "openai_subdivision1_iso_code": "US-WA"
      }
    },
    "kernel_info": {
      "name": "python3"
    },
    "noteable": {
      "last_transaction_id": "236fdb4b-4a46-4723-8b39-739061313510"
    },
    "kernelspec": {
      "display_name": "Python 3.9",
      "language": "python",
      "name": "python3"
    }
  },
  "cells": []
}