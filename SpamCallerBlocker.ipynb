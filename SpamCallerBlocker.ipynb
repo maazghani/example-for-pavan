{
  "nbformat": 4,
  "nbformat_minor": 5,
  "metadata": {
    "noteable-chatgpt": {
      "create_notebook": {
        "openai_conversation_id": "bcfcd90f-5849-52a4-8411-7b50ea6bf7a4",
        "openai_ephemeral_user_id": "46bf55e3-c239-5d42-8814-66cdca6a36cc",
        "openai_subdivision1_iso_code": "US-CA"
      }
    }
  },
  "cells": []
}