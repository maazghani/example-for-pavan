{
  "nbformat": 4,
  "nbformat_minor": 5,
  "metadata": {
    "noteable-chatgpt": {
      "create_notebook": {
        "openai_conversation_id": "bcfcd90f-5849-52a4-8411-7b50ea6bf7a4",
        "openai_ephemeral_user_id": "46bf55e3-c239-5d42-8814-66cdca6a36cc",
        "openai_subdivision1_iso_code": "US-CA"
      }
    },
    "kernel_info": {
      "name": "python3"
    },
    "noteable": {
      "last_transaction_id": "c7dedb70-458d-435a-86e0-08e593b44aa6"
    },
    "kernelspec": {
      "display_name": "Python 3.9",
      "language": "python",
      "name": "python3"
    }
  },
  "cells": []
}