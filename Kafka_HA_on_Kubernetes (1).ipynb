{
  "nbformat": 4,
  "nbformat_minor": 5,
  "metadata": {
    "noteable-chatgpt": {
      "create_notebook": {
        "openai_conversation_id": "4bfc4164-1db8-5c8f-a620-51a99627aac2",
        "openai_ephemeral_user_id": "418dd736-73dc-5bb7-a932-f86827154aaf",
        "openai_subdivision1_iso_code": "US-WA"
      }
    },
    "kernel_info": {
      "name": "python3"
    },
    "kernelspec": {
      "display_name": "Python 3.9",
      "language": "python",
      "name": "python3"
    },
    "selected_hardware_size": "small"
  },
  "cells": [
    {
      "id": "07c8f4a5-78b9-41b5-93f8-57f71b0e2fa9",
      "cell_type": "markdown",
      "source": "# High Availability for Apache Kafka on Kubernetes\n\nThis notebook is a replication of the content found on [learnk8s.io](https://learnk8s.io/kafka-ha-kubernetes) and is intended to guide you through setting up a highly available Apache Kafka cluster on Kubernetes.\n\n## Table of Contents\n1. [Introduction](#Introduction)\n2. [Why StatefulSets?](#Why-StatefulSets?)\n3. [Headless Services](#Headless-Services)\n4. [Combining a StatefulSet with a Headless Service](#Combining-a-StatefulSet-with-a-Headless-Service)\n5. [Deploying Kafka with StatefulSets and Headless Services](#Deploying-Kafka-with-StatefulSets-and-Headless-Services)\n6. [Conclusion](#Conclusion)",
      "metadata": {
        "noteable": {
          "cell_type": "markdown"
        }
      }
    },
    {
      "id": "6dcc12e4-dc3d-4fc6-a65e-50bce71ec1ac",
      "cell_type": "markdown",
      "source": "## Introduction\n\nApache Kafka is a distributed streaming platform that can be used to build real-time streaming data pipelines between different applications or microservices. It is extremely powerful but can be complex to set up and manage. One of the challenges in running Kafka is ensuring high availability (HA).",
      "metadata": {
        "noteable": {
          "cell_type": "markdown"
        }
      }
    },
    {
      "id": "833fc15e-a55a-432e-ba2f-d8e8683479cd",
      "cell_type": "markdown",
      "source": "## Why StatefulSets?\n\nKubernetes provides several abstractions for deploying applications, including Pods, Deployments, and StatefulSets. For stateful applications like databases or Kafka, StatefulSets are the most suitable because they provide guarantees about the ordering and uniqueness of Pods.",
      "metadata": {
        "noteable": {
          "cell_type": "markdown"
        }
      }
    },
    {
      "id": "a3511557-2519-487f-87f1-c2ac9aa2b703",
      "cell_type": "markdown",
      "source": "## Headless Services\n\nA headless service is a service with a service IP but instead of load-balancing the traffic to the back-end pods, they return the IPs of these pods. This is useful for stateful applications like Kafka.",
      "metadata": {
        "noteable": {
          "cell_type": "markdown"
        }
      }
    },
    {
      "id": "2cb78cbf-bb2f-41d5-a0d2-1ec621dac028",
      "cell_type": "markdown",
      "source": "## Combining a StatefulSet with a Headless Service\n\nWhen you combine a StatefulSet with a headless service, you can manage stateful pods. The headless service will manage the domain of the stateful pods, making it easier to discover and connect to them.",
      "metadata": {
        "noteable": {
          "cell_type": "markdown"
        }
      }
    },
    {
      "id": "6ace55c8-9cd4-4564-ac5e-22e9fb1d2905",
      "cell_type": "markdown",
      "source": "## Deploying Kafka with StatefulSets and Headless Services\n\nNow that you understand the basics, let's go through the steps to deploy Kafka using StatefulSets and headless services.",
      "metadata": {
        "noteable": {
          "cell_type": "markdown"
        }
      }
    },
    {
      "id": "b0303d42-34d3-4adc-a0d8-d3f6bbfdd786",
      "cell_type": "code",
      "metadata": {
        "noteable": {
          "cell_type": "code"
        }
      },
      "execution_count": null,
      "source": "# Create a headless service for Kafka\n!kubectl apply -f kafka-headless-service.yaml",
      "outputs": []
    },
    {
      "id": "2f0263a2-38e9-4b7b-8e42-576016bf7645",
      "cell_type": "code",
      "metadata": {
        "noteable": {
          "cell_type": "code"
        }
      },
      "execution_count": null,
      "source": "# Create a StatefulSet for Kafka\n!kubectl apply -f kafka-statefulset.yaml",
      "outputs": []
    }
  ]
}