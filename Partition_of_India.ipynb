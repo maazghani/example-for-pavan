{
  "nbformat": 4,
  "nbformat_minor": 5,
  "metadata": {
    "noteable-chatgpt": {
      "create_notebook": {
        "openai_conversation_id": "993d70d0-de6f-5689-93e3-a5bbedcd593b",
        "openai_ephemeral_user_id": "13e9faaa-238a-5757-b82e-f9c0fc7f1f74",
        "openai_subdivision1_iso_code": "US-CA"
      }
    }
  },
  "cells": []
}