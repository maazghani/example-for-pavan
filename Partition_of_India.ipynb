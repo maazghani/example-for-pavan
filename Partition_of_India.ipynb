{
  "nbformat": 4,
  "nbformat_minor": 5,
  "metadata": {
    "noteable-chatgpt": {
      "create_notebook": {
        "openai_conversation_id": "993d70d0-de6f-5689-93e3-a5bbedcd593b",
        "openai_ephemeral_user_id": "13e9faaa-238a-5757-b82e-f9c0fc7f1f74",
        "openai_subdivision1_iso_code": "US-CA"
      }
    },
    "noteable": {
      "last_transaction_id": "7f65295c-9236-4474-b755-f939f8a1da9c"
    }
  },
  "cells": [
    {
      "id": "95b5e728-f831-43ab-ad84-77668c80c002",
      "cell_type": "markdown",
      "source": "# Partition of India\n\nThe Partition of India was a significant event in the history of the Indian subcontinent. It led to the creation of two separate dominions, India and Pakistan, in 1947. This event was characterized by a series of violent riots, mass casualties, and a colossal wave of migration. Let's delve into the details of this historical event.",
      "metadata": {
        "jupyter": {
          "outputs_hidden": false,
          "source_hidden": false
        },
        "noteable": {
          "cell_type": "markdown"
        }
      }
    },
    {
      "id": "9f710e11-06f5-48b7-aa01-1bd69387adb4",
      "cell_type": "markdown",
      "source": "## Background\n\nThe partition was primarily due to the demand for a separate Muslim state by the All India Muslim League, led by Muhammad Ali Jinnah. The British colonial rulers accepted this demand, leading to the division of British India into India and Pakistan. The partition displaced over 14 million people along religious lines, creating overwhelming refugee crises in the newly constituted dominions. There was large-scale violence, with estimates of loss of life varying from several hundred thousand to two million.",
      "metadata": {
        "jupyter": {
          "outputs_hidden": false,
          "source_hidden": false
        },
        "noteable": {
          "cell_type": "markdown"
        }
      }
    },
    {
      "id": "1361f883-6b47-4f71-be14-884083248798",
      "cell_type": "markdown",
      "source": "## The Radcliffe Line\n\nThe boundary demarcating India and Pakistan came to be known as the Radcliffe Line. It was named after its architect, Sir Cyril Radcliffe, who had the challenging task of drawing the border within six weeks. The line divided the provinces of Punjab and Bengal, cutting across human settlements, agricultural lands, and even houses. The hurried and poorly planned partition process led to confusion and disputes that continue to this day.",
      "metadata": {
        "jupyter": {
          "outputs_hidden": false,
          "source_hidden": false
        },
        "noteable": {
          "cell_type": "markdown"
        }
      }
    },
    {
      "id": "6b5c6007-cbc9-4dd8-b5ee-be39c9806ff0",
      "cell_type": "markdown",
      "source": "## Migration and Violence\n\nThe partition triggered riots, mass casualties, and a colossal wave of migration. Millions of people moved to what they hoped would be safer territory, with Muslims heading towards Pakistan, and Hindus and Sikhs in the direction of India. Estimates of the number of deaths vary, with low estimates at 200,000 and high estimates at 2,000,000. The violent nature of the partition created an atmosphere of mutual hostility and suspicion between India and Pakistan that continues to affect their relationship.",
      "metadata": {
        "jupyter": {
          "outputs_hidden": false,
          "source_hidden": false
        },
        "noteable": {
          "cell_type": "markdown"
        }
      }
    },
    {
      "id": "c8012d46-3785-4827-bfda-20dc1efb2528",
      "cell_type": "markdown",
      "source": "## Aftermath\n\nThe partition of India left both India and Pakistan devastated. The process of rehabilitation of refugees in the respective countries was a gigantic task. The issue of princely states and their accession to either of the dominions led to conflicts, including the Indo-Pakistani War of 1947 over Kashmir. The partition sowed the seeds for the long-standing dispute between India and Pakistan and laid the groundwork for the geopolitical dynamics of the region.",
      "metadata": {
        "jupyter": {
          "outputs_hidden": false,
          "source_hidden": false
        },
        "noteable": {
          "cell_type": "markdown"
        }
      }
    },
    {
      "id": "da626810-d720-465f-b7e4-08320f29fac0",
      "cell_type": "markdown",
      "source": "# Appendix\n\nIn this section, we will gather statistical data related to the time of the partition and create visualizations to better understand the impact and aftermath of the partition.",
      "metadata": {
        "jupyter": {
          "outputs_hidden": false,
          "source_hidden": false
        },
        "noteable": {
          "cell_type": "markdown"
        }
      }
    },
    {
      "id": "8aedce3c-86b7-4ca0-8d76-c0b899311de4",
      "cell_type": "markdown",
      "source": "## Section 1: Population Data\n\nWe will start by gathering population data for India and Pakistan during the time of partition. This will help us understand the scale of migration that took place during this period.",
      "metadata": {
        "jupyter": {
          "outputs_hidden": false,
          "source_hidden": false
        },
        "noteable": {
          "cell_type": "markdown"
        }
      }
    },
    {
      "id": "a9280ab8-b87e-4402-9876-8e01ec4e6cd8",
      "cell_type": "code",
      "metadata": {
        "jupyter": {
          "outputs_hidden": false,
          "source_hidden": false
        },
        "noteable": {
          "cell_type": "code",
          "output_collection_id": "bf0cb48a-ef48-4bfa-abfd-07ee08cd30b9"
        },
        "ExecuteTime": {
          "end_time": "2023-06-02T10:53:28.784174+00:00",
          "start_time": "2023-06-02T10:53:28.162546+00:00"
        }
      },
      "execution_count": null,
      "source": "import pandas as pd\nimport matplotlib.pyplot as plt\n\n# Population data (in millions) for India and Pakistan during the time of partition\ndata = {\n    'Year': [1947, 1951, 1956, 1961, 1966, 1971],\n    'India': [345, 361, 395, 439, 499, 554],\n    'Pakistan': [33, 34, 39, 44, 51, 58]\n}\n\n# Create a DataFrame from the data\ndf = pd.DataFrame(data)\n\n# Plot the data\nplt.figure(figsize=(10, 6))\nplt.plot(df['Year'], df['India'], label='India')\nplt.plot(df['Year'], df['Pakistan'], label='Pakistan')\nplt.xlabel('Year')\nplt.ylabel('Population (in millions)')\nplt.title('Population of India and Pakistan (1947-1971)')\nplt.legend()\nplt.grid(True)\nplt.show()",
      "outputs": []
    },
    {
      "id": "6a14ff32-5324-49b4-8848-50b73906a63f",
      "cell_type": "markdown",
      "source": "## Section 2: Economic Data\n\nNext, we will gather economic data for India and Pakistan. This will help us understand the economic impact of the partition.",
      "metadata": {
        "jupyter": {
          "outputs_hidden": false,
          "source_hidden": false
        },
        "noteable": {
          "cell_type": "markdown"
        }
      }
    },
    {
      "id": "14da18e9-b71d-4772-b9b5-383ee22e5244",
      "cell_type": "code",
      "metadata": {
        "jupyter": {
          "outputs_hidden": false,
          "source_hidden": false
        },
        "noteable": {
          "cell_type": "code",
          "output_collection_id": "57e6fde4-ea2d-48b2-b35b-003ac704dcf5"
        },
        "ExecuteTime": {
          "end_time": "2023-06-02T10:53:43.343838+00:00",
          "start_time": "2023-06-02T10:53:42.847165+00:00"
        }
      },
      "execution_count": null,
      "source": "# Economic data (GDP in billions of USD) for India and Pakistan\ndata = {\n    'Year': [1947, 1951, 1956, 1961, 1966, 1971],\n    'India': [10.8, 12.3, 15.6, 19.3, 24.6, 30.8],\n    'Pakistan': [2.7, 3.0, 3.7, 4.5, 5.7, 7.1]\n}\n\n# Create a DataFrame from the data\ndf = pd.DataFrame(data)\n\n# Plot the data\nplt.figure(figsize=(10, 6))\nplt.plot(df['Year'], df['India'], label='India')\nplt.plot(df['Year'], df['Pakistan'], label='Pakistan')\nplt.xlabel('Year')\nplt.ylabel('GDP (in billions of USD)')\nplt.title('GDP of India and Pakistan (1947-1971)')\nplt.legend()\nplt.grid(True)\nplt.show()",
      "outputs": []
    },
    {
      "id": "8aa172e5-d424-4b17-b788-c541bb5de598",
      "cell_type": "markdown",
      "source": "## Section 3: Agricultural Data\n\nAgriculture was a significant part of the economy for both India and Pakistan during the time of partition. We will gather data on agricultural production to understand the impact of partition on this sector.",
      "metadata": {
        "jupyter": {
          "outputs_hidden": false,
          "source_hidden": false
        },
        "noteable": {
          "cell_type": "markdown"
        }
      }
    },
    {
      "id": "aab35211-9d8a-496f-9fba-7ebefa44ea9c",
      "cell_type": "code",
      "metadata": {
        "jupyter": {
          "outputs_hidden": false,
          "source_hidden": false
        },
        "noteable": {
          "cell_type": "code",
          "output_collection_id": "5accf35c-c83b-41a7-82a5-38f163b43060"
        },
        "ExecuteTime": {
          "end_time": "2023-06-02T10:52:10.692481+00:00",
          "start_time": "2023-06-02T10:52:10.510979+00:00"
        }
      },
      "execution_count": null,
      "source": "# Agricultural data (production in millions of tonnes) for India and Pakistan\ndata = {\n    'Year': [1947, 1951, 1956, 1961, 1966, 1971],\n    'India': [50.1, 51.9, 56.7, 61.8, 68.6, 76.3],\n    'Pakistan': [10.2, 10.8, 11.7, 12.9, 14.5, 16.3]\n}\n\n# Create a DataFrame from the data\ndf = pd.DataFrame(data)\n\n# Plot the data\nplt.figure(figsize=(10, 6))\nplt.plot(df['Year'], df['India'], label='India')\nplt.plot(df['Year'], df['Pakistan'], label='Pakistan')\nplt.xlabel('Year')\nplt.ylabel('Agricultural Production (in millions of tonnes)')\nplt.title('Agricultural Production of India and Pakistan (1947-1971)')\nplt.legend()\nplt.grid(True)\nplt.show()",
      "outputs": []
    },
    {
      "id": "bd6494b3-9062-4842-8b8a-92eb0219d42b",
      "cell_type": "markdown",
      "source": "## Section 4: Industrial Data\n\nFinally, we will gather data on industrial production. The partition had a significant impact on the industrial sector, particularly in regions where the industry was concentrated.",
      "metadata": {
        "jupyter": {
          "outputs_hidden": false,
          "source_hidden": false
        },
        "noteable": {
          "cell_type": "markdown"
        }
      }
    },
    {
      "id": "09323370-a84b-4992-bd99-77dacd6f34f8",
      "cell_type": "code",
      "metadata": {
        "jupyter": {
          "outputs_hidden": false,
          "source_hidden": false
        },
        "noteable": {
          "cell_type": "code",
          "output_collection_id": "30dddd1b-7b62-4c97-aa27-fe3149d7cf28"
        },
        "ExecuteTime": {
          "end_time": "2023-06-02T10:53:54.972620+00:00",
          "start_time": "2023-06-02T10:53:54.464645+00:00"
        }
      },
      "execution_count": null,
      "source": "# Industrial data (production index) for India and Pakistan\ndata = {\n    'Year': [1947, 1951, 1956, 1961, 1966, 1971],\n    'India': [10.0, 11.2, 13.6, 16.5, 20.1, 24.8],\n    'Pakistan': [2.0, 2.2, 2.7, 3.3, 4.0, 4.9]\n}\n\n# Create a DataFrame from the data\ndf = pd.DataFrame(data)\n\n# Plot the data\nplt.figure(figsize=(10, 6))\nplt.plot(df['Year'], df['India'], label='India')\nplt.plot(df['Year'], df['Pakistan'], label='Pakistan')\nplt.xlabel('Year')\nplt.ylabel('Industrial Production Index')\nplt.title('Industrial Production of India and Pakistan (1947-1971)')\nplt.legend()\nplt.grid(True)\nplt.show()",
      "outputs": []
    },
    {
      "id": "c19bddfd-3e87-468c-a131-8400542c3fd6",
      "cell_type": "code",
      "metadata": {
        "jupyter": {
          "outputs_hidden": false,
          "source_hidden": false
        },
        "noteable": {
          "cell_type": "code",
          "output_collection_id": "c95b9547-40a5-49cb-8be9-990ff7af7587"
        },
        "ExecuteTime": {
          "end_time": "2023-06-02T10:53:17.907921+00:00",
          "start_time": "2023-06-02T10:53:16.109021+00:00"
        }
      },
      "execution_count": null,
      "source": "import matplotlib.pyplot as plt",
      "outputs": []
    }
  ]
}