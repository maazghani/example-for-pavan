{
  "nbformat": 4,
  "nbformat_minor": 5,
  "metadata": {
    "noteable-chatgpt": {
      "create_notebook": {
        "openai_conversation_id": "c82b6a99-8308-5e2b-a051-e1fd37400105",
        "openai_ephemeral_user_id": "28fd7e5e-3696-5ae6-a585-47380b7944b7",
        "openai_subdivision1_iso_code": "US-WA"
      }
    },
    "noteable": {
      "last_transaction_id": "8ace4598-5d1b-46cf-92e1-4ce714bac972"
    }
  },
  "cells": [
    {
      "id": "ed6f6809-e951-45c4-8bd3-80b916c72a59",
      "cell_type": "code",
      "metadata": {
        "noteable": {
          "cell_type": "code",
          "output_collection_id": "5ebb0019-cf7b-4d1e-bb71-a592e76dfc74"
        },
        "ExecuteTime": {
          "end_time": "2023-06-21T17:02:23.008399+00:00",
          "start_time": "2023-06-21T17:02:22.475458+00:00"
        }
      },
      "execution_count": null,
      "source": "import pandas as pd\nimport faker\nimport random\nfrom sklearn.model_selection import train_test_split\nfrom sklearn.feature_extraction.text import CountVectorizer\nfrom sklearn.naive_bayes import MultinomialNB\nfrom sklearn.metrics import classification_report\n\n# Initialize Faker library\nfake = faker.Faker()\n\n# Define function to generate mock data\ndef generate_mock_data(n=1000):\n    data = []\n    for _ in range(n):\n        # Generate fake sentence\n        sentence = fake.sentence()\n        # Randomly assign a conversational technique\n        technique = random.choice(['affirmation', 'question', 'active listening', 'reflection'])\n        data.append((sentence, technique))\n    return pd.DataFrame(data, columns=['sentence', 'technique'])\n\n# Generate mock data\ndf = generate_mock_data()\n\n# Save the data to a CSV file\ndf.to_csv('mock_data.csv', index=False)",
      "outputs": []
    },
    {
      "id": "6ea4b429-a969-447b-837e-f49eefec0d6e",
      "cell_type": "code",
      "metadata": {
        "noteable": {
          "cell_type": "code",
          "output_collection_id": "0e8b2856-4cf7-4cb6-bbfb-c10c56cdf4ba"
        },
        "ExecuteTime": {
          "end_time": "2023-06-21T17:02:50.558601+00:00",
          "start_time": "2023-06-21T17:02:44.540735+00:00"
        }
      },
      "execution_count": null,
      "source": "!pip install faker",
      "outputs": []
    }
  ]
}