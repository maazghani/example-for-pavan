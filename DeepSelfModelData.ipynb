{
  "nbformat": 4,
  "nbformat_minor": 5,
  "metadata": {
    "noteable-chatgpt": {
      "create_notebook": {
        "openai_conversation_id": "c82b6a99-8308-5e2b-a051-e1fd37400105",
        "openai_ephemeral_user_id": "28fd7e5e-3696-5ae6-a585-47380b7944b7",
        "openai_subdivision1_iso_code": "US-WA"
      }
    },
    "noteable": {
      "last_transaction_id": "6d26dcae-af7c-46f7-9f2a-0b441345233a"
    }
  },
  "cells": [
    {
      "id": "ed6f6809-e951-45c4-8bd3-80b916c72a59",
      "cell_type": "code",
      "metadata": {
        "noteable": {
          "cell_type": "code",
          "output_collection_id": "5ebb0019-cf7b-4d1e-bb71-a592e76dfc74"
        },
        "ExecuteTime": {
          "end_time": "2023-06-21T17:02:23.008399+00:00",
          "start_time": "2023-06-21T17:02:22.475458+00:00"
        }
      },
      "execution_count": null,
      "source": "import pandas as pd\nimport faker\nimport random\nfrom sklearn.model_selection import train_test_split\nfrom sklearn.feature_extraction.text import CountVectorizer\nfrom sklearn.naive_bayes import MultinomialNB\nfrom sklearn.metrics import classification_report\n\n# Initialize Faker library\nfake = faker.Faker()\n\n# Define function to generate mock data\ndef generate_mock_data(n=1000):\n    data = []\n    for _ in range(n):\n        # Generate fake sentence\n        sentence = fake.sentence()\n        # Randomly assign a conversational technique\n        technique = random.choice(['affirmation', 'question', 'active listening', 'reflection'])\n        data.append((sentence, technique))\n    return pd.DataFrame(data, columns=['sentence', 'technique'])\n\n# Generate mock data\ndf = generate_mock_data()\n\n# Save the data to a CSV file\ndf.to_csv('mock_data.csv', index=False)",
      "outputs": []
    },
    {
      "id": "6ea4b429-a969-447b-837e-f49eefec0d6e",
      "cell_type": "code",
      "metadata": {
        "noteable": {
          "cell_type": "code",
          "output_collection_id": "0e8b2856-4cf7-4cb6-bbfb-c10c56cdf4ba"
        },
        "ExecuteTime": {
          "end_time": "2023-06-21T17:02:50.558601+00:00",
          "start_time": "2023-06-21T17:02:44.540735+00:00"
        }
      },
      "execution_count": null,
      "source": "!pip install faker",
      "outputs": []
    },
    {
      "id": "a63deaf2-f9d8-4e13-b122-e3484a4d062f",
      "cell_type": "code",
      "metadata": {
        "noteable": {
          "cell_type": "code",
          "output_collection_id": "12562559-0f96-45eb-aa3e-4f8f1c73069b"
        },
        "ExecuteTime": {
          "end_time": "2023-06-21T17:03:22.720306+00:00",
          "start_time": "2023-06-21T17:03:22.022993+00:00"
        }
      },
      "execution_count": null,
      "source": "import pandas as pd\nimport faker\nimport random\nfrom sklearn.model_selection import train_test_split\nfrom sklearn.feature_extraction.text import CountVectorizer\nfrom sklearn.naive_bayes import MultinomialNB\nfrom sklearn.metrics import classification_report\n\n# Initialize Faker library\nfake = faker.Faker()\n\n# Define function to generate mock data\ndef generate_mock_data(n=1000):\n    data = []\n    for _ in range(n):\n        # Generate fake sentence\n        sentence = fake.sentence()\n        # Randomly assign a conversational technique\n        technique = random.choice(['affirmation', 'question', 'active listening', 'reflection'])\n        data.append((sentence, technique))\n    return pd.DataFrame(data, columns=['sentence', 'technique'])\n\n# Generate mock data\ndf = generate_mock_data()\n\n# Save the data to a CSV file\ndf.to_csv('mock_data.csv', index=False)",
      "outputs": []
    },
    {
      "id": "225c07d7-7219-478b-af64-f1366547a9f1",
      "cell_type": "code",
      "metadata": {
        "noteable": {
          "cell_type": "code",
          "output_collection_id": "2a95fac7-b7b8-48d2-816b-cc74f1b3f051"
        },
        "ExecuteTime": {
          "end_time": "2023-06-21T17:03:59.065734+00:00",
          "start_time": "2023-06-21T17:03:58.881851+00:00"
        }
      },
      "execution_count": null,
      "source": "# Load the data from CSV file\ndf = pd.read_csv('mock_data.csv')\n\n# Split the data into train and test sets\nX_train, X_test, y_train, y_test = train_test_split(df['sentence'], df['technique'], test_size=0.2, random_state=42)\n\n# Vectorize the sentences\nvectorizer = CountVectorizer()\nX_train_vec = vectorizer.fit_transform(X_train)\nX_test_vec = vectorizer.transform(X_test)\n\n# Train the Naive Bayes classifier\nclf = MultinomialNB()\nclf.fit(X_train_vec, y_train)\n\n# Predict on the test set\ny_pred = clf.predict(X_test_vec)\n\n# Print the classification report\nprint(classification_report(y_test, y_pred))",
      "outputs": []
    }
  ]
}