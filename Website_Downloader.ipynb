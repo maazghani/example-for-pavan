{
  "nbformat": 4,
  "nbformat_minor": 5,
  "metadata": {
    "noteable-chatgpt": {
      "create_notebook": {
        "openai_conversation_id": "0b691407-2f3c-535c-8a3c-cd8925b4ff3a",
        "openai_ephemeral_user_id": "21d1b6bc-d6bf-5fce-9c5a-5250f54c2166",
        "openai_subdivision1_iso_code": "US-WA"
      }
    }
  },
  "cells": []
}