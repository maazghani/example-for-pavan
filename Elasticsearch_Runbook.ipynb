{
  "nbformat": 4,
  "nbformat_minor": 5,
  "metadata": {
    "noteable-chatgpt": {
      "create_notebook": {
        "openai_conversation_id": "d43e4a58-13df-5d3b-8e64-1b49ea725cac",
        "openai_ephemeral_user_id": "5df9c841-3988-5bb2-9b96-f785101b3c84",
        "openai_subdivision1_iso_code": "US-WA"
      }
    },
    "kernel_info": {
      "name": "python3"
    },
    "noteable": {
      "last_transaction_id": "dc644a46-3f46-4cd6-abc6-e74224564d86"
    },
    "kernelspec": {
      "display_name": "Python 3.9",
      "language": "python",
      "name": "python3"
    }
  },
  "cells": [
    {
      "id": "49525d30-c028-4f2d-a102-a9c1aeb83a17",
      "cell_type": "markdown",
      "source": "## Checking Cluster Health",
      "metadata": {
        "noteable": {
          "cell_type": "markdown"
        }
      }
    },
    {
      "id": "c21bdad9-4e33-48c7-9bfa-5f3c1cd5a488",
      "cell_type": "code",
      "metadata": {
        "noteable": {
          "cell_type": "code"
        }
      },
      "execution_count": null,
      "source": "# Placeholder code for checking cluster health\n# Replace with the actual script from the GitLab repository\n\nTARGET_HOST = 'YOUR_ELASTICSEARCH_HOST'\n\n# Example:\n# response = requests.get(f'{TARGET_HOST}/_cluster/health')\n# print(response.json())",
      "outputs": []
    },
    {
      "id": "34c7f358-fe58-4a26-80d8-a60ee64d4562",
      "cell_type": "markdown",
      "source": "## Checking Cluster Shard Allocation",
      "metadata": {
        "noteable": {
          "cell_type": "markdown"
        }
      }
    },
    {
      "id": "a8f59472-629d-4533-83b2-da18d4aed329",
      "cell_type": "code",
      "metadata": {
        "noteable": {
          "cell_type": "code"
        }
      },
      "execution_count": null,
      "source": "# Placeholder code for checking cluster shard allocation\n# Replace with the actual script from the GitLab repository\n\n# Example:\n# response = requests.get(f'{TARGET_HOST}/_cat/shards')\n# print(response.text)",
      "outputs": []
    },
    {
      "id": "9f4d48cc-640c-4db3-8cef-05c85dcb1dfe",
      "cell_type": "markdown",
      "source": "## Checking Cluster Nodes Health",
      "metadata": {
        "noteable": {
          "cell_type": "markdown"
        }
      }
    },
    {
      "id": "752400cd-1297-4c9f-870a-40a13674d395",
      "cell_type": "code",
      "metadata": {
        "noteable": {
          "cell_type": "code"
        }
      },
      "execution_count": null,
      "source": "# Placeholder code for checking cluster nodes health\n# Replace with the actual script from the GitLab repository\n\n# Example:\n# response = requests.get(f'{TARGET_HOST}/_cat/nodes?v')\n# print(response.text)",
      "outputs": []
    }
  ]
}