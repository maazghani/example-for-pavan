{
  "nbformat": 4,
  "nbformat_minor": 5,
  "metadata": {
    "noteable-chatgpt": {
      "create_notebook": {
        "openai_conversation_id": "d43e4a58-13df-5d3b-8e64-1b49ea725cac",
        "openai_ephemeral_user_id": "5df9c841-3988-5bb2-9b96-f785101b3c84",
        "openai_subdivision1_iso_code": "US-WA"
      }
    },
    "kernel_info": {
      "name": "python3"
    },
    "noteable": {
      "last_transaction_id": "3a5dde6f-b7ec-4030-933d-7c8363e76356"
    },
    "kernelspec": {
      "display_name": "Python 3.9",
      "language": "python",
      "name": "python3"
    }
  },
  "cells": [
    {
      "id": "49525d30-c028-4f2d-a102-a9c1aeb83a17",
      "cell_type": "markdown",
      "source": "## Checking Cluster Health",
      "metadata": {
        "noteable": {
          "cell_type": "markdown"
        }
      }
    },
    {
      "id": "c21bdad9-4e33-48c7-9bfa-5f3c1cd5a488",
      "cell_type": "code",
      "metadata": {
        "noteable": {
          "cell_type": "code"
        }
      },
      "execution_count": null,
      "source": "# Placeholder code for checking cluster health\n# Replace with the actual script from the GitLab repository\n\nTARGET_HOST = 'YOUR_ELASTICSEARCH_HOST'\n\n# Example:\n# response = requests.get(f'{TARGET_HOST}/_cluster/health')\n# print(response.json())",
      "outputs": []
    }
  ]
}