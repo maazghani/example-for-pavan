{
  "nbformat": 4,
  "nbformat_minor": 5,
  "metadata": {
    "noteable-chatgpt": {
      "create_notebook": {
        "openai_conversation_id": "d5976761-ce22-5287-9b80-6c5c4810ef9d",
        "openai_ephemeral_user_id": "c607f455-92b2-5031-8b5a-c7d089135610",
        "openai_subdivision1_iso_code": "US-CA"
      }
    }
  },
  "cells": []
}