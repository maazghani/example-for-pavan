{
  "nbformat": 4,
  "nbformat_minor": 5,
  "metadata": {
    "noteable-chatgpt": {
      "create_notebook": {
        "openai_conversation_id": "88814a26-2a97-51fd-a879-6119997b360a",
        "openai_ephemeral_user_id": "e89852c8-42d9-5f17-b77c-866291951d8a",
        "openai_subdivision1_iso_code": "US-WA"
      }
    },
    "kernel_info": {
      "name": "python3"
    },
    "noteable": {
      "last_transaction_id": "bdc3cb9f-8695-4e6d-b04b-721948f48c02"
    },
    "kernelspec": {
      "display_name": "Python 3.9",
      "language": "python",
      "name": "python3"
    }
  },
  "cells": [
    {
      "id": "55556027-7702-4bc0-80e3-984ac5b82446",
      "cell_type": "markdown",
      "source": "# Terraform Upgrade Summary\n\nThis document serves as a guide for upgrading from Terraform 0.15.5 to 1.5.4. It is intended to be the introductory section of a Confluence page detailing the upgrade process and its implications.\n\n## Backwards Compatibility\n\nTerraform 1.x versions are designed to be backward compatible with Terraform 0.15.x. This means that all existing configurations that worked on 0.15.x should also work on 1.x without requiring any changes.\n\n## New Features and Improvements\n\nTerraform 1.x introduces new features and improvements. However, these new features and improvements are optional and are not required to use Terraform 1.x. You can continue to use your existing configurations without making use of these new features.\n\n## Deprecations\n\nWhile Terraform 1.x maintains backward compatibility, it may deprecate certain features or behaviors. These deprecations are signaled through warnings when running Terraform. However, these deprecations will not cause existing configurations to stop working.\n\n## Removals\n\nCertain features or behaviors may be removed in future 1.x versions. However, these removals will be clearly communicated in the upgrade guides and will provide a clear path for updating your configurations.\n\n## Provider Compatibility\n\nTerraform 1.x is compatible with the same set of provider versions as Terraform 0.15.x. This means that you can continue to use the same providers without requiring any changes.\n\n## Next Steps\n\nIn the following sections of this Confluence page, we will detail the process of removing our Terraform codebase's pinning to Terraform 0.15.5 and re-running our plans that didn't include drift using Terraform 1.5.4. For the rest of the team, the only requirement will be to ensure they are using Terraform 1.5.4.",
      "metadata": {
        "noteable": {
          "cell_type": "markdown"
        }
      }
    }
  ]
}