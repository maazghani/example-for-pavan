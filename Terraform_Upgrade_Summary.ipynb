{
  "nbformat": 4,
  "nbformat_minor": 5,
  "metadata": {
    "noteable-chatgpt": {
      "create_notebook": {
        "openai_conversation_id": "88814a26-2a97-51fd-a879-6119997b360a",
        "openai_ephemeral_user_id": "e89852c8-42d9-5f17-b77c-866291951d8a",
        "openai_subdivision1_iso_code": "US-WA"
      }
    }
  },
  "cells": []
}