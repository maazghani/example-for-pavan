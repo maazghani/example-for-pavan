{
  "nbformat": 4,
  "nbformat_minor": 5,
  "metadata": {
    "noteable-chatgpt": {
      "create_notebook": {
        "openai_conversation_id": "739a18cb-1cb5-5598-ba61-ba2f7910fbb6",
        "openai_ephemeral_user_id": "30483065-1d28-5046-83e4-1248b4e68d57",
        "openai_subdivision1_iso_code": "US-CA"
      }
    },
    "kernel_info": {
      "name": "python3"
    },
    "noteable": {
      "last_transaction_id": "98aa807c-2fe8-4682-8714-5ccc450b5413"
    },
    "kernelspec": {
      "display_name": "Python 3.9",
      "language": "python",
      "name": "python3"
    }
  },
  "cells": [
    {
      "id": "a458a5cc-e6aa-40ba-a2fc-056331bb4ae2",
      "cell_type": "code",
      "metadata": {
        "noteable": {
          "cell_type": "code",
          "output_collection_id": "cd96a9cd-fe5f-45f5-81bd-8522717cfa47"
        },
        "ExecuteTime": {
          "end_time": "2023-08-16T16:04:49.907063+00:00",
          "start_time": "2023-08-16T16:04:49.740678+00:00"
        }
      },
      "execution_count": null,
      "source": "from datetime import datetime\n\n# Get current time in ISO 8601 format\niso_time = datetime.utcnow().isoformat()\niso_time",
      "outputs": []
    }
  ]
}