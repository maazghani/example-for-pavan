{
  "nbformat": 4,
  "nbformat_minor": 5,
  "metadata": {
    "noteable-chatgpt": {
      "create_notebook": {
        "openai_conversation_id": "b12a8a14-f692-5834-a7d6-4eb9c454abe5",
        "openai_ephemeral_user_id": "a8a855fc-243f-5ab6-a65f-7a6365f86c00",
        "openai_subdivision1_iso_code": "US-CA"
      }
    },
    "noteable": {
      "last_transaction_id": "192c5505-f403-47ab-9e79-99c64906e365"
    }
  },
  "cells": [
    {
      "id": "272468d0-c684-417d-a0be-1c18a3449ee2",
      "cell_type": "markdown",
      "source": "# Driving Plan from Dallas to Seattle\nThis notebook will generate an optimal driving plan from Dallas to Seattle. The plan will include the route, gas station stops, and rest stops.",
      "metadata": {
        "noteable": {
          "cell_type": "markdown"
        }
      }
    },
    {
      "id": "6338510b-dfb0-4d3d-897e-7a0c32f51b3b",
      "cell_type": "code",
      "metadata": {
        "noteable": {
          "cell_type": "code"
        }
      },
      "execution_count": null,
      "source": "import requests\nimport json\nimport time\nimport math",
      "outputs": []
    }
  ]
}