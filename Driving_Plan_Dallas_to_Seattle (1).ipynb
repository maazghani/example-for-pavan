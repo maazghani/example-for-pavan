{
  "nbformat": 4,
  "nbformat_minor": 5,
  "metadata": {
    "noteable-chatgpt": {
      "create_notebook": {
        "openai_conversation_id": "b12a8a14-f692-5834-a7d6-4eb9c454abe5",
        "openai_ephemeral_user_id": "a8a855fc-243f-5ab6-a65f-7a6365f86c00",
        "openai_subdivision1_iso_code": "US-CA"
      }
    }
  },
  "cells": []
}