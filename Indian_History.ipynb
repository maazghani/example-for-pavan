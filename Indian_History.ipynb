{
  "nbformat": 4,
  "nbformat_minor": 5,
  "metadata": {
    "noteable-chatgpt": {
      "create_notebook": {
        "openai_conversation_id": "993d70d0-de6f-5689-93e3-a5bbedcd593b",
        "openai_ephemeral_user_id": "13e9faaa-238a-5757-b82e-f9c0fc7f1f74",
        "openai_subdivision1_iso_code": "US-CA"
      }
    },
    "noteable": {
      "last_transaction_id": "737ddfcc-6aeb-41e4-9a92-91c4e2234164"
    }
  },
  "cells": [
    {
      "id": "0a301d96-7818-4851-9df7-66b189631cc5",
      "cell_type": "markdown",
      "source": "# Operation Polo\nOperation Polo, also known as the Hyderabad Police Action, was a military operation in September 1948 in which the Indian Armed Forces invaded the State of Hyderabad and overthrew its Nizam, annexing the state into the Indian Union.\n![Operation Polo](https://upload.wikimedia.org/wikipedia/commons/7/77/Indian_troops_march_into_Hyderabad.png)\n## Background\nAt the time of Partition in 1947, the princely states of India, who in principle had self-government within their own territories, were subject to subsidiary alliances with the British, giving them control of their external relations. With the withdrawal of British paramountcy in 1947, the states were left in a legal vacuum. As a result, the rulers of the states had the option of joining India or Pakistan (both of which had dominion status) or remaining independent. Hyderabad was the largest and most prosperous state of all, and it decided to remain independent. Hyderabad was an inland state that stretched over 82,000 square miles (over 212,000 square kilometres) in southeastern India. It was geographically surrounded by India.\n## Timeline\n- **June 1947**: Nizam Osman Ali Khan, Asif Jah VII, made a firangi or 'foreign' department and attempted to hire American and British officers to build up an army. The Nizam was given two options—join India or Pakistan. The Nizam of Hyderabad wanted to retain the independence of the Princely Hyderabad State as a separate country.\n- **September 1948**: Indian troops invaded Hyderabad State from all points of the compass.\n## Analysis\nThe operation led to massive violence and a reported massacre of the Muslim population, with estimates of the dead ranging from 30,000 to 200,000. The Indian government justified the intervention by stating that it was to curb communal violence and maintain law and order in the state, but it has been widely criticised for the manner in which it was carried out.\n## Significant Details\n- The operation was named after the polo game, a popular sport in Hyderabad.\n- The operation was carried out from 13–18 September 1948.\n- The operation ended with the signing of the Instrument of Accession, making Hyderabad a part of India.\n## Editorial Analysis\nOperation Polo was a significant event in the history of post-independence India. It marked the end of princely rule in India and led to the integration of Hyderabad State into the Indian Union. However, the operation was marked by violence and is a subject of debate and controversy. The operation has been criticised for the use of force, leading to a large number of casualties, and for violating the Standstill Agreement that India had signed with Hyderabad.",
      "metadata": {
        "jupyter": {
          "outputs_hidden": false,
          "source_hidden": false
        },
        "noteable": {
          "cell_type": "markdown"
        }
      }
    }
  ]
}