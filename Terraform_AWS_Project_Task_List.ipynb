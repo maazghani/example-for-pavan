{
  "nbformat": 4,
  "nbformat_minor": 5,
  "metadata": {
    "noteable-chatgpt": {
      "create_notebook": {
        "openai_conversation_id": "b05e4a41-ea23-53c5-a56a-898ed119d935",
        "openai_ephemeral_user_id": "b4599f43-9134-5bef-997b-fce4c7508068",
        "openai_subdivision1_iso_code": "US-WA"
      }
    },
    "kernel_info": {
      "name": "python3"
    },
    "kernelspec": {
      "display_name": "Python 3.9",
      "language": "python",
      "name": "python3"
    },
    "selected_hardware_size": "small"
  },
  "cells": [
    {
      "id": "b00d5243-8c46-43d7-ab4d-b2a05ac9cbaa",
      "cell_type": "markdown",
      "source": "# Task List for Terraform Repository in AWS\nThis notebook contains the task list for setting up a Terraform repository in AWS. Each task is placed inside a code cell for easy execution and validation.",
      "metadata": {
        "noteable": {
          "cell_type": "markdown"
        }
      }
    },
    {
      "id": "b2163b83-eff4-41ce-b0f0-67cc1e3276e2",
      "cell_type": "code",
      "metadata": {
        "noteable": {
          "cell_type": "code"
        }
      },
      "execution_count": null,
      "source": "# Initialize Repo\ngit init",
      "outputs": []
    },
    {
      "id": "8e3491cc-7233-4d42-9a4a-5a95ffd41ab4",
      "cell_type": "code",
      "metadata": {
        "noteable": {
          "cell_type": "code"
        }
      },
      "execution_count": null,
      "source": "# Add .gitignore for Terraform .tfstate files\necho '.tfstate' >> .gitignore",
      "outputs": []
    },
    {
      "id": "b3591d09-91ae-4177-b765-36e28f7b1769",
      "cell_type": "code",
      "metadata": {
        "noteable": {
          "cell_type": "code"
        }
      },
      "execution_count": null,
      "source": "# Directory Structure\nmkdir -p prod qa modules",
      "outputs": []
    },
    {
      "id": "b8382e21-b80f-40b7-95c9-d0a156bb8cc6",
      "cell_type": "code",
      "metadata": {
        "noteable": {
          "cell_type": "code"
        }
      },
      "execution_count": null,
      "source": "# VPC Configuration\necho 'VPC module code here' > modules/vpc.tf\ncp modules/vpc.tf prod/vpc.tf\ncp modules/vpc.tf qa/vpc.tf",
      "outputs": []
    },
    {
      "id": "130440dc-8b9e-4fd7-a3b9-5d4782685df7",
      "cell_type": "code",
      "metadata": {
        "noteable": {
          "cell_type": "code"
        }
      },
      "execution_count": null,
      "source": "# Subnet Configuration\necho 'Subnet module code here' > modules/subnet.tf\ncp modules/subnet.tf prod/subnet.tf\ncp modules/subnet.tf qa/subnet.tf",
      "outputs": []
    },
    {
      "id": "9a1d5847-3f24-4e20-ad72-4c341345d17f",
      "cell_type": "code",
      "metadata": {
        "noteable": {
          "cell_type": "code"
        }
      },
      "execution_count": null,
      "source": "# Route Table & Associations\necho 'Route module code here' > modules/route.tf\ncp modules/route.tf prod/route.tf\ncp modules/route.tf qa/route.tf",
      "outputs": []
    },
    {
      "id": "7a48f251-f420-4aaf-890b-6cae1ac50d8e",
      "cell_type": "code",
      "metadata": {
        "noteable": {
          "cell_type": "code"
        }
      },
      "execution_count": null,
      "source": "# EKS Cluster\necho 'EKS module code here' > modules/eks.tf\ncp modules/eks.tf prod/eks.tf\ncp modules/eks.tf qa/eks.tf",
      "outputs": []
    },
    {
      "id": "0423aff0-db7d-4bba-be33-9ff83c1e8e8f",
      "cell_type": "code",
      "metadata": {
        "noteable": {
          "cell_type": "code"
        }
      },
      "execution_count": null,
      "source": "# Route53 Hosted Zones\necho 'Route53 module code here' > modules/route53.tf\ncp modules/route53.tf prod/route53.tf\ncp modules/route53.tf qa/route53.tf",
      "outputs": []
    },
    {
      "id": "b6dc2b37-cde7-4026-a0f4-6c3da0929d78",
      "cell_type": "code",
      "metadata": {
        "noteable": {
          "cell_type": "code"
        }
      },
      "execution_count": null,
      "source": "# State Management\necho 'S3 backend configuration for .tfstate files' > backend.tf",
      "outputs": []
    },
    {
      "id": "400c2fd4-56b1-49b7-9a62-4debb54c64fb",
      "cell_type": "code",
      "metadata": {
        "noteable": {
          "cell_type": "code"
        }
      },
      "execution_count": null,
      "source": "# Variable Files\necho 'Variable definitions' > prod/terraform.tfvars\ncp prod/terraform.tfvars qa/terraform.tfvars",
      "outputs": []
    },
    {
      "id": "6729f808-915c-47bb-9f8c-bb9c7cb868e8",
      "cell_type": "code",
      "metadata": {
        "noteable": {
          "cell_type": "code"
        }
      },
      "execution_count": null,
      "source": "# Testing\nterraform validate\nterraform plan",
      "outputs": []
    },
    {
      "id": "a2aee8e6-9b91-4e7e-b32b-b2d5ee5ccd0c",
      "cell_type": "code",
      "metadata": {
        "noteable": {
          "cell_type": "code"
        }
      },
      "execution_count": null,
      "source": "# Deployment\nterraform apply",
      "outputs": []
    },
    {
      "id": "1e51cf6d-d666-40a3-b49a-0e6943a35f43",
      "cell_type": "code",
      "metadata": {
        "noteable": {
          "cell_type": "code"
        }
      },
      "execution_count": null,
      "source": "# Documentation\necho '# Terraform AWS Project' > README.md\necho '## Inline comments for modules' >> README.md",
      "outputs": []
    },
    {
      "id": "71f79e59-df2e-4197-ab2b-a03f23333e99",
      "cell_type": "code",
      "metadata": {
        "noteable": {
          "cell_type": "code"
        }
      },
      "execution_count": null,
      "source": "# CI/CD Pipeline\necho 'Integrate with Jenkins or GitLab CI' > cicd.txt",
      "outputs": []
    },
    {
      "id": "1c4e2cca-b096-4041-991f-b898460d434a",
      "cell_type": "code",
      "metadata": {
        "noteable": {
          "cell_type": "code"
        }
      },
      "execution_count": null,
      "source": "# Monitoring & Logging\necho 'CloudWatch' > monitoring.txt\necho 'Prometheus & Grafana' >> monitoring.txt",
      "outputs": []
    },
    {
      "id": "6198f4d6-5e95-4c87-9ce4-95f5eca7b0cf",
      "cell_type": "code",
      "metadata": {
        "noteable": {
          "cell_type": "code"
        }
      },
      "execution_count": null,
      "source": "# Review & Merge\necho 'Code review' > review.txt\necho 'Merge to main branch' >> review.txt",
      "outputs": []
    }
  ]
}