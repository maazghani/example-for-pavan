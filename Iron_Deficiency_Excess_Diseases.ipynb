{
  "nbformat": 4,
  "nbformat_minor": 5,
  "metadata": {
    "noteable-chatgpt": {
      "create_notebook": {
        "openai_conversation_id": "e33250a3-fa5c-578d-9195-a99908a16507",
        "openai_ephemeral_user_id": "9b725dc9-cfe9-56c9-872f-b327574f6485",
        "openai_subdivision1_iso_code": "US-WA"
      }
    },
    "noteable": {
      "last_transaction_id": "8e32e5cf-04f3-40e4-82e3-577be829284f"
    }
  },
  "cells": [
    {
      "id": "e38036aa-6ea8-41b5-80f7-7f3f2b4dfd7c",
      "cell_type": "code",
      "metadata": {
        "jupyter": {
          "outputs_hidden": false,
          "source_hidden": false
        },
        "noteable": {
          "cell_type": "code"
        }
      },
      "execution_count": null,
      "source": "",
      "outputs": []
    },
    {
      "id": "2f41ee55-c2fd-4432-b4f6-d38f03907c30",
      "cell_type": "markdown",
      "source": "# Iron Deficiency and Excess Diseases\nSource: [SelfDecode Labs](https://labs.selfdecode.com/blog/iron-deficiency-excess-diseases/#:~:text=Iron%20deficiency%20can%20cause%20mood,iron%20deficiency%20anemia%20%5B30%5D.)\n\n## Iron Deficiency\nIron deficiency is the most common nutritional deficiency in the world and is a leading cause of anemia [1].\n\nIron deficiency can cause mood disorders and cognitive problems. In a study of 198 women, those with iron deficiency anemia were more likely to have depression, anxiety, and obsessive-compulsive symptoms [2].\n\nIn a study of 105 children, those with iron deficiency anemia had lower scores on tests of mental and motor functioning compared to healthy children [3].\n\nIron deficiency can also cause restless leg syndrome, a condition characterized by a strong urge to move the legs [4].\n\n## Iron Overload\nIron overload is a condition that occurs when too much iron builds up in the body. This can occur from consuming too much iron or from certain genetic disorders.\n\nIron overload can cause damage to the liver, heart, and pancreas, which can lead to conditions like liver disease, heart problems, and diabetes [5].\n\nIron overload can also cause symptoms like fatigue, joint pain, and loss of libido [6].\n\n## Iron and Diseases\nBoth iron deficiency and iron overload are associated with an increased risk of disease.\n\nIron deficiency is associated with an increased risk of infectious diseases like tuberculosis and malaria, as well as with conditions like heart failure and cancer [7, 8, 9, 10].\n\nIron overload is associated with an increased risk of conditions like liver disease, heart disease, and diabetes [11, 12, 13].",
      "metadata": {
        "noteable": {
          "cell_type": "markdown"
        }
      }
    }
  ]
}