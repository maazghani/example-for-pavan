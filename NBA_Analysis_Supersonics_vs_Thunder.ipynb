{
  "nbformat": 4,
  "nbformat_minor": 5,
  "metadata": {
    "noteable-chatgpt": {
      "create_notebook": {
        "openai_conversation_id": "0c8bedbb-2827-5360-9255-7c30584f3280",
        "openai_ephemeral_user_id": "59efc72e-e2f2-5e4a-95f4-7dbd4d2d9b90"
      }
    },
    "noteable": {
      "last_transaction_id": "0158b38f-0531-4106-a5a2-89a42e15dc30"
    }
  },
  "cells": [
    {
      "id": "05ab3a33-b8e4-4447-8ec9-f3bc52eafc17",
      "cell_type": "markdown",
      "source": "# NBA Analysis: Seattle Supersonics vs Oklahoma City Thunder\nThis notebook will gather, process, and visualize data comparing the Seattle Supersonics and the Oklahoma City Thunder.",
      "metadata": {
        "noteable": {
          "cell_type": "markdown"
        }
      }
    },
    {
      "id": "d98bf945-f28d-4cd8-92d4-1e0784f8d2bf",
      "cell_type": "code",
      "metadata": {
        "noteable": {
          "cell_type": "code"
        }
      },
      "execution_count": null,
      "source": "# Import necessary libraries\nimport pandas as pd\nimport numpy as np\nimport matplotlib.pyplot as plt\nimport seaborn as sns\nfrom nba_api.stats.static import teams\nfrom nba_api.stats.endpoints import teamyearbyyearstats\n\n# Get NBA teams\nnba_teams = teams.get_teams()\n\n# Find team IDs for Supersonics and Thunder\nsupersonics = [team for team in nba_teams if team['full_name'] == 'Seattle Supersonics'][0]\nthunder = [team for team in nba_teams if team['full_name'] == 'Oklahoma City Thunder'][0]\n\n# Get team stats\nsupersonics_stats = teamyearbyyearstats.TeamYearByYearStats(team_id=supersonics['id']).get_data_frames()[0]\nthunder_stats = teamyearbyyearstats.TeamYearByYearStats(team_id=thunder['id']).get_data_frames()[0]",
      "outputs": []
    }
  ]
}