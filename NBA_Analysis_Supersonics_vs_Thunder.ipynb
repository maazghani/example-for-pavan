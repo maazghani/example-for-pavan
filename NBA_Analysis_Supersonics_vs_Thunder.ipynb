{
  "nbformat": 4,
  "nbformat_minor": 5,
  "metadata": {
    "noteable-chatgpt": {
      "create_notebook": {
        "openai_conversation_id": "0c8bedbb-2827-5360-9255-7c30584f3280",
        "openai_ephemeral_user_id": "59efc72e-e2f2-5e4a-95f4-7dbd4d2d9b90"
      }
    },
    "noteable": {
      "last_transaction_id": "88c44bae-8a53-4f08-b41c-2d2a99555382"
    },
    "selected_hardware_size": "small"
  },
  "cells": [
    {
      "id": "05ab3a33-b8e4-4447-8ec9-f3bc52eafc17",
      "cell_type": "markdown",
      "source": "# NBA Analysis: Seattle Supersonics vs Oklahoma City Thunder\nThis notebook will gather, process, and visualize data comparing the Seattle Supersonics and the Oklahoma City Thunder.",
      "metadata": {
        "noteable": {
          "cell_type": "markdown"
        }
      }
    },
    {
      "id": "41097036-b2fe-4cad-8caa-688e2dcbf812",
      "cell_type": "code",
      "metadata": {
        "jupyter": {
          "outputs_hidden": false,
          "source_hidden": false
        },
        "noteable": {
          "cell_type": "code",
          "output_collection_id": "b28c4032-4b4e-4493-b68c-20f6b0210733"
        },
        "ExecuteTime": null
      },
      "execution_count": null,
      "source": "!pip install nba_api",
      "outputs": []
    },
    {
      "id": "d98bf945-f28d-4cd8-92d4-1e0784f8d2bf",
      "cell_type": "code",
      "metadata": {
        "noteable": {
          "cell_type": "code",
          "output_collection_id": "cf4f9434-ba64-41cf-9f3d-21bcfed93494"
        },
        "ExecuteTime": {
          "end_time": "2023-07-16T20:03:12.276139+00:00",
          "start_time": "2023-07-16T20:03:10.853661+00:00"
        }
      },
      "execution_count": null,
      "source": "# Import necessary libraries\nimport pandas as pd\nimport numpy as np\nimport matplotlib.pyplot as plt\nimport seaborn as sns\nfrom nba_api.stats.static import teams\nfrom nba_api.stats.endpoints import teamyearbyyearstats\n\n# Get NBA teams\nnba_teams = teams.get_teams()\n\n# Find team IDs for Supersonics and Thunder\nsupersonics = [team for team in nba_teams if team['full_name'] == 'Seattle Supersonics'][0]\nthunder = [team for team in nba_teams if team['full_name'] == 'Oklahoma City Thunder'][0]\n\n# Get team stats\nsupersonics_stats = teamyearbyyearstats.TeamYearByYearStats(team_id=supersonics['id']).get_data_frames()[0]\nthunder_stats = teamyearbyyearstats.TeamYearByYearStats(team_id=thunder['id']).get_data_frames()[0]",
      "outputs": []
    },
    {
      "id": "912ad470-f530-4fe8-97b5-ce871607455b",
      "cell_type": "code",
      "metadata": {
        "noteable": {
          "cell_type": "code"
        }
      },
      "execution_count": null,
      "source": "# Data processing\ndef process_data(df):\n    df['W_PCT'] = df['W'] / (df['W'] + df['L'])\n    df['YEAR'] = df['YEAR'].apply(lambda x: int(x.split('-')[0]) + 1)\n    return df\n\nsupersonics_stats = process_data(supersonics_stats)\nthunder_stats = process_data(thunder_stats)",
      "outputs": []
    },
    {
      "id": "f77d4eb6-1d61-4831-a1f4-e4490319130a",
      "cell_type": "code",
      "metadata": {
        "noteable": {
          "cell_type": "code"
        }
      },
      "execution_count": null,
      "source": "# Data visualization\nplt.figure(figsize=(14, 7))\nplt.plot(supersonics_stats['YEAR'], supersonics_stats['W_PCT'], label='Seattle Supersonics')\nplt.plot(thunder_stats['YEAR'], thunder_stats['W_PCT'], label='Oklahoma City Thunder')\nplt.xlabel('Year')\nplt.ylabel('Winning Percentage')\nplt.title('Winning Percentage Over the Years')\nplt.legend()\nplt.grid(True)\nplt.show()",
      "outputs": []
    }
  ]
}