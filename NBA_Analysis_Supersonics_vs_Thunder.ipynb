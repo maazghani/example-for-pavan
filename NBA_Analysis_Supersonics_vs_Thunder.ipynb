{
  "nbformat": 4,
  "nbformat_minor": 5,
  "metadata": {
    "noteable-chatgpt": {
      "create_notebook": {
        "openai_conversation_id": "0c8bedbb-2827-5360-9255-7c30584f3280",
        "openai_ephemeral_user_id": "59efc72e-e2f2-5e4a-95f4-7dbd4d2d9b90"
      }
    }
  },
  "cells": []
}