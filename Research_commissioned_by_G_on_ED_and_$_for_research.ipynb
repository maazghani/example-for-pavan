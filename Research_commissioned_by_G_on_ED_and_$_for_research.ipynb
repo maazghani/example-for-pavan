{
  "nbformat": 4,
  "nbformat_minor": 5,
  "metadata": {
    "noteable-chatgpt": {
      "create_notebook": {
        "openai_conversation_id": "c93743d4-1c72-5b9e-8dac-f74ad0fb76bc",
        "openai_ephemeral_user_id": "59efc72e-e2f2-5e4a-95f4-7dbd4d2d9b90"
      }
    }
  },
  "cells": []
}