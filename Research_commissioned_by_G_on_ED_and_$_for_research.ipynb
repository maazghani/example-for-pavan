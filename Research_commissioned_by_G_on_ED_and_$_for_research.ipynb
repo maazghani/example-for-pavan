{
  "nbformat": 4,
  "nbformat_minor": 5,
  "metadata": {
    "noteable-chatgpt": {
      "create_notebook": {
        "openai_conversation_id": "c93743d4-1c72-5b9e-8dac-f74ad0fb76bc",
        "openai_ephemeral_user_id": "59efc72e-e2f2-5e4a-95f4-7dbd4d2d9b90"
      }
    },
    "noteable": {
      "last_transaction_id": "b8eef430-c739-4880-be2e-6999a38be065"
    }
  },
  "cells": [
    {
      "id": "10eafc07-c37f-4669-a909-8b3696756bf0",
      "cell_type": "markdown",
      "source": "# Research on Education and Lifetime Earnings\n\nIn this research, we aim to compare the average lifetime earnings of college graduates and people with a General Education Development (GED) certificate. We will gather data from various reliable sources, analyze it, and visualize the results using Python.\n\n## Data Sources\n\nWe will be using the following sources for our data:\n\n1. [The Wage Gap Between College and High School Grads](https://money.com/wage-gap-college-high-school-grads/)\n2. [How does a college degree improve graduates' employment](https://www.aplu.org/our-work/4-policy-and-advocacy/publicuvalues/employment-earnings/#:~:text=College%20graduates%20are%20half%20as,million%20more%20over%20their%20lifetime.)\n3. [Education pays, 2020 - Bureau of Labor Statistics](https://www.bls.gov/careeroutlook/2021/data-on-display/education-pays.htm#:~:text=For%20example%2C%20workers%20with%20a,was%20a%20high%20school%20diploma.)\n\nLet's start by gathering the data.",
      "metadata": {
        "noteable": {
          "cell_type": "markdown"
        }
      }
    },
    {
      "id": "aaa5ea26-b6d9-4ce1-8e48-ace7f0ae337c",
      "cell_type": "code",
      "metadata": {
        "noteable": {
          "cell_type": "code",
          "output_collection_id": "7352d81b-cf7f-4693-ab9c-58052d481e69"
        },
        "ExecuteTime": {
          "end_time": "2023-07-16T19:00:48.222321+00:00",
          "start_time": "2023-07-16T19:00:33.207878+00:00"
        }
      },
      "execution_count": null,
      "source": "!pip install -q pandas\n!pip install -q beautifulsoup4\n!pip install -q requests",
      "outputs": []
    }
  ]
}