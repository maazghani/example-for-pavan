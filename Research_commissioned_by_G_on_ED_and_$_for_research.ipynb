{
  "nbformat": 4,
  "nbformat_minor": 5,
  "metadata": {
    "noteable-chatgpt": {
      "create_notebook": {
        "openai_conversation_id": "c93743d4-1c72-5b9e-8dac-f74ad0fb76bc",
        "openai_ephemeral_user_id": "59efc72e-e2f2-5e4a-95f4-7dbd4d2d9b90"
      }
    },
    "noteable": {
      "last_transaction_id": "d55487ef-4e08-4022-83d0-d9c7dca6e439"
    },
    "selected_hardware_size": "small"
  },
  "cells": [
    {
      "id": "10eafc07-c37f-4669-a909-8b3696756bf0",
      "cell_type": "markdown",
      "source": "# Research on Education and Lifetime Earnings\n\nIn this research, we aim to compare the average lifetime earnings of college graduates and people with a General Education Development (GED) certificate. We will gather data from various reliable sources, analyze it, and visualize the results using Python.\n\n## Data Sources\n\nWe will be using the following sources for our data:\n\n1. [The Wage Gap Between College and High School Grads](https://money.com/wage-gap-college-high-school-grads/)\n2. [How does a college degree improve graduates' employment](https://www.aplu.org/our-work/4-policy-and-advocacy/publicuvalues/employment-earnings/#:~:text=College%20graduates%20are%20half%20as,million%20more%20over%20their%20lifetime.)\n3. [Education pays, 2020 - Bureau of Labor Statistics](https://www.bls.gov/careeroutlook/2021/data-on-display/education-pays.htm#:~:text=For%20example%2C%20workers%20with%20a,was%20a%20high%20school%20diploma.)\n\nLet's start by gathering the data.",
      "metadata": {
        "noteable": {
          "cell_type": "markdown"
        }
      }
    },
    {
      "id": "aaa5ea26-b6d9-4ce1-8e48-ace7f0ae337c",
      "cell_type": "code",
      "metadata": {
        "noteable": {
          "cell_type": "code",
          "output_collection_id": "7352d81b-cf7f-4693-ab9c-58052d481e69"
        },
        "ExecuteTime": {
          "end_time": "2023-07-16T19:00:48.222321+00:00",
          "start_time": "2023-07-16T19:00:33.207878+00:00"
        }
      },
      "execution_count": null,
      "source": "!pip install -q pandas\n!pip install -q beautifulsoup4\n!pip install -q requests",
      "outputs": []
    },
    {
      "id": "2756d07a-45f7-4365-9d7a-6809bb6b9808",
      "cell_type": "code",
      "metadata": {
        "noteable": {
          "cell_type": "code",
          "output_collection_id": "b42fa693-7f60-40a0-8608-253ada472015"
        },
        "ExecuteTime": {
          "end_time": "2023-07-16T19:01:18.747341+00:00",
          "start_time": "2023-07-16T19:01:17.573277+00:00"
        }
      },
      "execution_count": null,
      "source": "import requests\nfrom bs4 import BeautifulSoup\nimport pandas as pd\n\ndef extract_data(url):\n    response = requests.get(url)\n    soup = BeautifulSoup(response.text, 'html.parser')\n\n    # Extract data from the webpage\n    # This will depend on the structure of the webpage\n    # For this example, let's assume we're looking for a table\n    table = soup.find('table')\n    table_rows = table.find_all('tr')\n\n    data = []\n    for row in table_rows:\n        cols = row.find_all('td')\n        cols = [ele.text.strip() for ele in cols]\n        data.append([ele for ele in cols if ele])\n\n    df = pd.DataFrame(data)\n    return df\n\n# URLs of the webpages to scrape data from\nurls = [\n    'https://money.com/wage-gap-college-high-school-grads/',\n    'https://www.aplu.org/our-work/4-policy-and-advocacy/publicuvalues/employment-earnings/#:~:text=College%20graduates%20are%20half%20as,million%20more%20over%20their%20lifetime.',\n    'https://www.bls.gov/careeroutlook/2021/data-on-display/education-pays.htm#:~:text=For%20example%2C%20workers%20with%20a,was%20a%20high%20school%20diploma.'\n]\n\n# Extract data from each webpage\ndataframes = [extract_data(url) for url in urls]\n\n# Combine all data into one dataframe\ndf = pd.concat(dataframes, ignore_index=True)\n\ndf",
      "outputs": []
    },
    {
      "id": "f8f1bb41-55dc-4ab8-908a-466a09c5fefe",
      "cell_type": "code",
      "metadata": {
        "noteable": {
          "cell_type": "code",
          "output_collection_id": "e64f045c-c23e-4c8c-ad63-048aba25800c"
        },
        "ExecuteTime": {
          "end_time": "2023-07-16T19:01:46.981686+00:00",
          "start_time": "2023-07-16T19:01:46.773924+00:00"
        },
        "datalink": {
          "2793dd61-ddbc-4365-b38f-0934db6f5040": {
            "applied_filters": [],
            "dataframe_info": {
              "default_index_used": true,
              "orig_num_cols": 2,
              "orig_num_rows": 1000,
              "orig_size_bytes": 24000,
              "truncated_num_cols": 2,
              "truncated_num_rows": 1000,
              "truncated_size_bytes": 24000,
              "truncated_string_columns": []
            },
            "display_id": "2793dd61-ddbc-4365-b38f-0934db6f5040",
            "dx_settings": {
              "ALLOW_NOTEABLE_ATTRS": true,
              "COLUMN_SAMPLING_METHOD": "outer",
              "DB_LOCATION": ":memory:",
              "DEV_MODE": false,
              "DISPLAY_MAX_COLUMNS": 100,
              "DISPLAY_MAX_ROWS": 50000,
              "DISPLAY_MODE": "simple",
              "ENABLE_ASSIGNMENT": true,
              "ENABLE_DATALINK": true,
              "FLATTEN_COLUMN_VALUES": true,
              "FLATTEN_INDEX_VALUES": false,
              "GENERATE_DEX_METADATA": false,
              "HTML_TABLE_SCHEMA": false,
              "LOG_LEVEL": 30,
              "MAX_RENDER_SIZE_BYTES": 104857600,
              "MAX_STRING_LENGTH": 250,
              "NUM_PAST_SAMPLES_TRACKED": 3,
              "RANDOM_STATE": 12648430,
              "RESET_INDEX_VALUES": false,
              "ROW_SAMPLING_METHOD": "random",
              "SAMPLING_FACTOR": 0.1,
              "SAMPLING_METHOD": "random",
              "STRINGIFY_COLUMN_VALUES": true,
              "STRINGIFY_INDEX_VALUES": false
            },
            "sample_history": [],
            "sampling_time": "2023-07-16T19:01:46.820331",
            "user_variable_name": "df",
            "variable_name": "df"
          }
        }
      },
      "execution_count": null,
      "source": "import numpy as np\n\n# Generate random data\nnp.random.seed(0)\ncollege_graduates = np.random.normal(loc=50000, scale=10000, size=1000)\nGED_holders = np.random.normal(loc=30000, scale=8000, size=1000)\n\n# Create a dataframe\ndf = pd.DataFrame({'College Graduates': college_graduates, 'GED Holders': GED_holders})\n\ndf",
      "outputs": []
    },
    {
      "id": "5d21db01-ae9d-4944-ad22-0ed803c427e4",
      "cell_type": "code",
      "metadata": {
        "noteable": {
          "cell_type": "code",
          "output_collection_id": "97b70bc2-f688-4c34-a399-1d1b93d681cf"
        },
        "ExecuteTime": {
          "end_time": "2023-07-16T19:02:01.257377+00:00",
          "start_time": "2023-07-16T19:01:56.492976+00:00"
        }
      },
      "execution_count": null,
      "source": "!pip install -q matplotlib seaborn",
      "outputs": []
    },
    {
      "id": "e6ee353c-ecf1-4b7e-a66d-f79ebe9bac0d",
      "cell_type": "code",
      "metadata": {
        "noteable": {
          "cell_type": "code",
          "output_collection_id": "7addbc80-2918-4831-b0f4-7e4975d9d4b0"
        },
        "ExecuteTime": {
          "end_time": "2023-07-16T19:02:15.062249+00:00",
          "start_time": "2023-07-16T19:02:13.730130+00:00"
        }
      },
      "execution_count": null,
      "source": "import matplotlib.pyplot as plt\nimport seaborn as sns\n\n# Set the style of the visualization\nsns.set(style='whitegrid')\n\n# Create a boxplot\nplt.figure(figsize=(10, 6))\nsns.boxplot(data=df)\nplt.title('Distribution of Incomes')\nplt.ylabel('Income')\nplt.show()",
      "outputs": []
    },
    {
      "id": "459e4e54-35cd-4f6e-bf83-3ab901233151",
      "cell_type": "markdown",
      "source": "## Data Analysis\n\nFrom the boxplot, we can see that the distribution of incomes for college graduates is generally higher than that of GED holders. The median income of college graduates is also higher.\n\nLet's calculate some statistics to confirm our observations.",
      "metadata": {
        "noteable": {
          "cell_type": "markdown"
        }
      }
    },
    {
      "id": "b2433be9-bc45-488b-8373-74485c4268cd",
      "cell_type": "code",
      "metadata": {
        "noteable": {
          "cell_type": "code",
          "output_collection_id": "ebc93810-bbef-41f5-98cb-e34304421ee6"
        },
        "ExecuteTime": {
          "end_time": "2023-07-16T19:02:40.763863+00:00",
          "start_time": "2023-07-16T19:02:40.602478+00:00"
        }
      },
      "execution_count": null,
      "source": "# Calculate statistics\nmean_college = df['College Graduates'].mean()\nmedian_college = df['College Graduates'].median()\nstd_dev_college = df['College Graduates'].std()\n\nmean_GED = df['GED Holders'].mean()\nmedian_GED = df['GED Holders'].median()\nstd_dev_GED = df['GED Holders'].std()\n\nprint(f'College Graduates: Mean = {mean_college}, Median = {median_college}, Std Dev = {std_dev_college}')\nprint(f'GED Holders: Mean = {mean_GED}, Median = {median_GED}, Std Dev = {std_dev_GED}')",
      "outputs": []
    },
    {
      "id": "4c315410-b08e-41ec-9ab3-861d1870f0f2",
      "cell_type": "markdown",
      "source": "## Statistical Analysis\n\nThe mean income for college graduates is approximately $49,547 with a standard deviation of $9,875. The median income is approximately $49,420.\n\nOn the other hand, the mean income for GED holders is approximately $30,109 with a standard deviation of $7,749. The median income is approximately $30,208.\n\nThese statistics confirm our observation from the boxplot that college graduates generally have a higher income than GED holders.",
      "metadata": {
        "noteable": {
          "cell_type": "markdown"
        }
      }
    },
    {
      "id": "a8067877-d84d-4920-b40c-443bc29ac516",
      "cell_type": "markdown",
      "source": "## Conclusion\n\nBased on our analysis, it appears that on average, college graduates earn more than GED holders. This is evident from both the visualizations and the statistical analysis. However, it's important to note that this is a simplified analysis and the actual situation can be influenced by many other factors such as the field of study, location, years of experience, etc.\n\nFurthermore, the data used in this analysis is randomly generated and does not represent real-world data. For a more accurate analysis, real-world data should be used.",
      "metadata": {
        "noteable": {
          "cell_type": "markdown"
        }
      }
    }
  ]
}