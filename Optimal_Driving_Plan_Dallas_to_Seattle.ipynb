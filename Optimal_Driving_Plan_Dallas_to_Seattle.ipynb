{
  "nbformat": 4,
  "nbformat_minor": 5,
  "metadata": {
    "noteable-chatgpt": {
      "create_notebook": {
        "openai_conversation_id": "f452a987-a0bb-5be7-b6d2-ec62e083f4a3",
        "openai_ephemeral_user_id": "a8a855fc-243f-5ab6-a65f-7a6365f86c00",
        "openai_subdivision1_iso_code": "US-CA"
      }
    }
  },
  "cells": []
}