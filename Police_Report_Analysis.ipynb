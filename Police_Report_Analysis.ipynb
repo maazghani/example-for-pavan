{
  "nbformat": 4,
  "nbformat_minor": 5,
  "metadata": {
    "noteable-chatgpt": {
      "create_notebook": {
        "openai_conversation_id": "d054a17e-07f4-5342-88f2-abf8799c1f78",
        "openai_ephemeral_user_id": "520eedbe-8df7-513b-bd2b-77044f138e51",
        "openai_subdivision1_iso_code": "US-WA"
      }
    },
    "kernel_info": {
      "name": "python3"
    },
    "kernelspec": {
      "display_name": "Python 3.9",
      "language": "python",
      "name": "python3"
    },
    "selected_hardware_size": "small"
  },
  "cells": [
    {
      "id": "01fd2aed-e4bd-4f96-bc40-bb6fa1d75e58",
      "cell_type": "markdown",
      "source": "# Metadata\n- **Date of Report**: 8/27/2023\n- **Date of Incident**: 8/25/2023\n- **Time of Incident**: 2154 hours\n- **Officer**: Christian Lara #8806\n- **Location**: 4411 Dayton AV N, Seattle, WA\n- **County**: KING, STATE OF WASHINGTON\n- **Suspect**: Jason Gray\n- **Victims**: Alexander Hendrix, Tylynn Shine",
      "metadata": {
        "noteable": {
          "cell_type": "markdown"
        }
      }
    }
  ]
}