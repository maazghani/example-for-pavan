{
  "nbformat": 4,
  "nbformat_minor": 5,
  "metadata": {
    "noteable-chatgpt": {
      "create_notebook": {
        "openai_conversation_id": "87120f7f-6a6d-57b1-80fc-694ed76faae2",
        "openai_ephemeral_user_id": "13e9faaa-238a-5757-b82e-f9c0fc7f1f74",
        "openai_subdivision1_iso_code": "US-CA"
      }
    }
  },
  "cells": []
}