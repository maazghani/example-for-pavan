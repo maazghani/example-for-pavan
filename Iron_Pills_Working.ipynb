{
  "nbformat": 4,
  "nbformat_minor": 5,
  "metadata": {
    "noteable-chatgpt": {
      "create_notebook": {
        "openai_conversation_id": "e33250a3-fa5c-578d-9195-a99908a16507",
        "openai_ephemeral_user_id": "9b725dc9-cfe9-56c9-872f-b327574f6485",
        "openai_subdivision1_iso_code": "US-WA"
      }
    },
    "noteable": {
      "last_transaction_id": "c6a536b3-4d41-450e-8a7c-e50998a978bb"
    }
  },
  "cells": [
    {
      "id": "89e2db4a-9749-439b-9a6b-a44ef7764547",
      "cell_type": "markdown",
      "source": "# Reference List\n\n1. [Methamphetamine Use and Anemia](https://www.ncbi.nlm.nih.gov/pmc/articles/PMC3724445/)\n2. [Methamphetamine Use and Health](https://www.drugabuse.gov/publications/research-reports/methamphetamine/what-are-long-term-effects-methamphetamine-misuse)\n3. [Iron Deficiency and Mood Disorders](https://labs.selfdecode.com/blog/iron-deficiency-excess-diseases/#:~:text=Iron%20deficiency%20can%20cause%20mood,iron%20deficiency%20anemia%20%5B30%5D.)\n4. [Signs that Iron Pills are Working](https://www.medicalnewstoday.com/articles/signs-iron-pills-are-working#:~:text=Iron%20supplements%20typically%20begin%20working,a%20minimum%20of%203%20months.)",
      "metadata": {
        "noteable": {
          "cell_type": "markdown"
        }
      }
    }
  ]
}