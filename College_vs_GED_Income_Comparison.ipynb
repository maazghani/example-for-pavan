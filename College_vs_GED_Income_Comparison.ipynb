{
  "nbformat": 4,
  "nbformat_minor": 5,
  "metadata": {
    "noteable-chatgpt": {
      "create_notebook": {
        "openai_conversation_id": "df4c7a49-479b-58af-9cd8-e8a1a1f55051",
        "openai_ephemeral_user_id": "59efc72e-e2f2-5e4a-95f4-7dbd4d2d9b90"
      }
    }
  },
  "cells": []
}