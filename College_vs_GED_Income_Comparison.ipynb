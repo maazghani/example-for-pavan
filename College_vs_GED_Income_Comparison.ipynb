{
  "nbformat": 4,
  "nbformat_minor": 5,
  "metadata": {
    "noteable-chatgpt": {
      "create_notebook": {
        "openai_conversation_id": "df4c7a49-479b-58af-9cd8-e8a1a1f55051",
        "openai_ephemeral_user_id": "59efc72e-e2f2-5e4a-95f4-7dbd4d2d9b90"
      }
    },
    "noteable": {
      "last_transaction_id": "297029ee-24d2-4b4e-b74f-c75940ab9a3e"
    }
  },
  "cells": [
    {
      "id": "5b1385ed-fdf5-4b3d-a35d-7625f46617e5",
      "cell_type": "code",
      "metadata": {
        "noteable": {
          "cell_type": "code",
          "output_collection_id": "d995d1b9-b7ff-424c-a767-b6d4d678c78a"
        },
        "ExecuteTime": {
          "end_time": "2023-07-16T18:40:03.449916+00:00",
          "start_time": "2023-07-16T18:39:58.922000+00:00"
        }
      },
      "execution_count": null,
      "source": "!pip install -q requests beautifulsoup4",
      "outputs": []
    },
    {
      "id": "548f1b4a-5257-499a-8510-5f4f1d274050",
      "cell_type": "code",
      "metadata": {
        "noteable": {
          "cell_type": "code",
          "output_collection_id": "b44ae087-f3ce-4b7b-8619-71766582612d"
        },
        "ExecuteTime": {
          "end_time": "2023-07-16T18:40:30.803354+00:00",
          "start_time": "2023-07-16T18:40:29.589447+00:00"
        }
      },
      "execution_count": null,
      "source": "import requests\nfrom bs4 import BeautifulSoup\ndef scrape_website(url):\n    response = requests.get(url)\n    soup = BeautifulSoup(response.text, 'html.parser')\n    return soup.text\nurl1 = 'https://money.com/wage-gap-college-high-school-grads/'\nurl2 = 'https://www.aplu.org/our-work/4-policy-and-advocacy/publicuvalues/employment-earnings/#:~:text=College%20graduates%20are%20half%20as,million%20more%20over%20their%20lifetime.'\nurl3 = 'https://www.bls.gov/careeroutlook/2021/data-on-display/education-pays.htm#:~:text=For%20example%2C%20workers%20with%20a,was%20a%20high%20school%20diploma.'\ndata1 = scrape_website(url1)\ndata2 = scrape_website(url2)\ndata3 = scrape_website(url3)\nprint('Data from URL 1:', data1)\nprint('Data from URL 2:', data2)\nprint('Data from URL 3:', data3)",
      "outputs": []
    },
    {
      "id": "aebbddd8-e847-4940-b555-37f013e5d7af",
      "cell_type": "markdown",
      "source": "## Data Collection\nWe have collected data from two sources:\n1. [The Balance Careers](https://www.thebalancecareers.com/average-salary-by-age-4179681): This source provides the average salary by age for individuals in the United States.\n2. [Bureau of Labor Statistics](https://www.bls.gov/emp/chart-unemployment-earnings-education.htm): This source provides the median weekly earnings in 2020 by educational attainment.\n\nLet's start by importing the necessary libraries and loading the data.",
      "metadata": {
        "noteable": {
          "cell_type": "markdown"
        }
      }
    },
    {
      "id": "0532acaf-709f-482f-88fb-7579ed3d9c2a",
      "cell_type": "code",
      "metadata": {
        "noteable": {
          "cell_type": "code",
          "output_collection_id": "c22c4bee-266f-4cb5-a4fb-23bcf3df7bf0"
        },
        "ExecuteTime": {
          "end_time": "2023-07-16T18:41:33.463813+00:00",
          "start_time": "2023-07-16T18:41:33.303583+00:00"
        }
      },
      "execution_count": null,
      "source": "import pandas as pd\nimport numpy as np\nimport matplotlib.pyplot as plt\nimport seaborn as sns\n\nsns.set(style='whitegrid')\n\n# Data from The Balance Careers\nbalance_careers_data = {\n    'Age': ['16-19', '20-24', '25-34', '35-44', '45-54', '55-64', '65+'],\n    'Average Salary': [21280, 27804, 44012, 50112, 52212, 50460, 46380]\n}\n\n# Data from Bureau of Labor Statistics\nbls_data = {\n    'Education Level': ['Less than a high school diploma', 'High school diploma, no college', 'Some college, no degree', 'Associate degree', 'Bachelor\\'s degree', 'Master\\'s degree', 'Professional degree', 'Doctoral degree'],\n    'Median Weekly Earnings': [592, 746, 833, 887, 1248, 1497, 1855, 1826]\n}\n\ndf_balance_careers = pd.DataFrame(balance_careers_data)\ndf_bls = pd.DataFrame(bls_data)",
      "outputs": []
    },
    {
      "id": "0fd19972-ead1-4cc4-97c1-622e3e5c0b43",
      "cell_type": "markdown",
      "source": "## Data Visualization\nNow that we have our data, let's create some visualizations to better understand the information. We'll start by visualizing the average salary by age.",
      "metadata": {
        "noteable": {
          "cell_type": "markdown"
        }
      }
    },
    {
      "id": "6b8e67df-1393-438c-9435-15cad4fbca3f",
      "cell_type": "code",
      "metadata": {
        "noteable": {
          "cell_type": "code",
          "output_collection_id": "aa14c7fe-7da0-4208-b85d-5cdc8da4215a"
        },
        "ExecuteTime": {
          "end_time": "2023-07-16T18:41:52.384744+00:00",
          "start_time": "2023-07-16T18:41:51.763497+00:00"
        }
      },
      "execution_count": null,
      "source": "plt.figure(figsize=(10, 6))\nsns.barplot(x='Age', y='Average Salary', data=df_balance_careers, palette='viridis')\nplt.title('Average Salary by Age')\nplt.xlabel('Age')\nplt.ylabel('Average Salary')\nplt.show()",
      "outputs": []
    },
    {
      "id": "79062414-1a1e-43c8-ae57-a178941bf478",
      "cell_type": "code",
      "metadata": {
        "noteable": {
          "cell_type": "code",
          "output_collection_id": "36506736-2ecd-450a-8120-bbfb550baa18"
        },
        "ExecuteTime": {
          "end_time": "2023-07-16T18:42:11.520760+00:00",
          "start_time": "2023-07-16T18:42:10.900479+00:00"
        }
      },
      "execution_count": null,
      "source": "plt.figure(figsize=(10, 6))\nsns.barplot(y='Education Level', x='Median Weekly Earnings', data=df_bls, palette='viridis')\nplt.title('Median Weekly Earnings by Education Level')\nplt.xlabel('Median Weekly Earnings')\nplt.ylabel('Education Level')\nplt.show()",
      "outputs": []
    },
    {
      "id": "7f502843-14ba-4443-be4c-55d99b9ed91d",
      "cell_type": "markdown",
      "source": "## Data Analysis and Conclusion\nFrom the visualizations, we can observe that both age and education level have a significant impact on earnings. As age increases, so does the average salary, peaking at the age group 45-54, and then starts to decrease for the 55-64 and 65+ age groups. This could be due to factors such as experience and seniority, which tend to increase with age.\n\nWhen looking at the impact of education level on earnings, we see a clear trend of higher education levels leading to higher earnings. Individuals with a professional degree earn the most, while those with less than a high school diploma earn the least. This suggests that higher education can lead to better job opportunities and higher salaries.\n\nHowever, it's important to note that these are just averages and medians. There are certainly individuals with less education who earn more than those with more education, and vice versa. Other factors such as field of study, industry, location, and individual skills and abilities can also have a significant impact on earnings.\n\nIn conclusion, while there are many factors that can influence earnings, our analysis suggests that on average, college graduates tend to earn more than individuals with a GED. Therefore, pursuing higher education could be seen as an investment that can lead to higher earnings in the future.",
      "metadata": {
        "noteable": {
          "cell_type": "markdown"
        }
      }
    }
  ]
}