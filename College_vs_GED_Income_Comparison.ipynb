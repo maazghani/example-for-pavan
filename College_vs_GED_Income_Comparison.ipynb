{
  "nbformat": 4,
  "nbformat_minor": 5,
  "metadata": {
    "noteable-chatgpt": {
      "create_notebook": {
        "openai_conversation_id": "df4c7a49-479b-58af-9cd8-e8a1a1f55051",
        "openai_ephemeral_user_id": "59efc72e-e2f2-5e4a-95f4-7dbd4d2d9b90"
      }
    },
    "noteable": {
      "last_transaction_id": "5a2944c5-91c4-477f-a8a6-c7a24fee621a"
    }
  },
  "cells": [
    {
      "id": "5b1385ed-fdf5-4b3d-a35d-7625f46617e5",
      "cell_type": "code",
      "metadata": {
        "noteable": {
          "cell_type": "code",
          "output_collection_id": "d995d1b9-b7ff-424c-a767-b6d4d678c78a"
        },
        "ExecuteTime": {
          "end_time": "2023-07-16T18:40:03.449916+00:00",
          "start_time": "2023-07-16T18:39:58.922000+00:00"
        }
      },
      "execution_count": null,
      "source": "!pip install -q requests beautifulsoup4",
      "outputs": []
    }
  ]
}