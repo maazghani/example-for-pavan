{
  "nbformat": 4,
  "nbformat_minor": 5,
  "metadata": {
    "noteable-chatgpt": {
      "create_notebook": {
        "openai_conversation_id": "df4c7a49-479b-58af-9cd8-e8a1a1f55051",
        "openai_ephemeral_user_id": "59efc72e-e2f2-5e4a-95f4-7dbd4d2d9b90"
      }
    },
    "noteable": {
      "last_transaction_id": "5217cab8-4fde-489d-9c94-e9f3ece26b45"
    }
  },
  "cells": [
    {
      "id": "5b1385ed-fdf5-4b3d-a35d-7625f46617e5",
      "cell_type": "code",
      "metadata": {
        "noteable": {
          "cell_type": "code",
          "output_collection_id": "d995d1b9-b7ff-424c-a767-b6d4d678c78a"
        },
        "ExecuteTime": {
          "end_time": "2023-07-16T18:40:03.449916+00:00",
          "start_time": "2023-07-16T18:39:58.922000+00:00"
        }
      },
      "execution_count": null,
      "source": "!pip install -q requests beautifulsoup4",
      "outputs": []
    },
    {
      "id": "548f1b4a-5257-499a-8510-5f4f1d274050",
      "cell_type": "code",
      "metadata": {
        "noteable": {
          "cell_type": "code",
          "output_collection_id": "b44ae087-f3ce-4b7b-8619-71766582612d"
        },
        "ExecuteTime": {
          "end_time": "2023-07-16T18:40:30.803354+00:00",
          "start_time": "2023-07-16T18:40:29.589447+00:00"
        }
      },
      "execution_count": null,
      "source": "import requests\nfrom bs4 import BeautifulSoup\ndef scrape_website(url):\n    response = requests.get(url)\n    soup = BeautifulSoup(response.text, 'html.parser')\n    return soup.text\nurl1 = 'https://money.com/wage-gap-college-high-school-grads/'\nurl2 = 'https://www.aplu.org/our-work/4-policy-and-advocacy/publicuvalues/employment-earnings/#:~:text=College%20graduates%20are%20half%20as,million%20more%20over%20their%20lifetime.'\nurl3 = 'https://www.bls.gov/careeroutlook/2021/data-on-display/education-pays.htm#:~:text=For%20example%2C%20workers%20with%20a,was%20a%20high%20school%20diploma.'\ndata1 = scrape_website(url1)\ndata2 = scrape_website(url2)\ndata3 = scrape_website(url3)\nprint('Data from URL 1:', data1)\nprint('Data from URL 2:', data2)\nprint('Data from URL 3:', data3)",
      "outputs": []
    },
    {
      "id": "aebbddd8-e847-4940-b555-37f013e5d7af",
      "cell_type": "markdown",
      "source": "## Data Collection\nWe have collected data from two sources:\n1. [The Balance Careers](https://www.thebalancecareers.com/average-salary-by-age-4179681): This source provides the average salary by age for individuals in the United States.\n2. [Bureau of Labor Statistics](https://www.bls.gov/emp/chart-unemployment-earnings-education.htm): This source provides the median weekly earnings in 2020 by educational attainment.\n\nLet's start by importing the necessary libraries and loading the data.",
      "metadata": {
        "noteable": {
          "cell_type": "markdown"
        }
      }
    }
  ]
}