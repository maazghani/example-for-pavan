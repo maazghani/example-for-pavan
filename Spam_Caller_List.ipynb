{
  "nbformat": 4,
  "nbformat_minor": 5,
  "metadata": {
    "noteable-chatgpt": {
      "create_notebook": {
        "openai_conversation_id": "bcfcd90f-5849-52a4-8411-7b50ea6bf7a4",
        "openai_ephemeral_user_id": "46bf55e3-c239-5d42-8814-66cdca6a36cc",
        "openai_subdivision1_iso_code": "US-CA"
      }
    },
    "kernel_info": {
      "name": "python3"
    },
    "noteable": {
      "last_transaction_id": "06f0c295-9ba5-4367-9ac8-fa665e087059"
    },
    "kernelspec": {
      "display_name": "Python 3.9",
      "language": "python",
      "name": "python3"
    }
  },
  "cells": [
    {
      "id": "cf630a83-84d5-410b-b2bc-1a952bcbf000",
      "cell_type": "code",
      "metadata": {
        "noteable": {
          "cell_type": "code",
          "output_collection_id": "657b42d8-f790-4f53-b95d-02dabdeb68c4"
        },
        "ExecuteTime": {
          "end_time": "2023-07-22T01:02:35.923793+00:00",
          "start_time": "2023-07-22T01:02:34.842192+00:00"
        }
      },
      "execution_count": null,
      "source": "import requests\nimport pandas as pd\nimport vobject\n\n# Define the endpoint\nendpoint = 'https://opendata.fcc.gov/resource/p5sq-5c2e.json'\n\n# Define the headers for the API request\nheaders = {\n    'Accept': 'application/json',\n    'X-App-Token': 'YOUR_APP_TOKEN'\n}\n\n# Make the API request\nresponse = requests.get(endpoint, headers=headers)\n\n# Convert the response to JSON\ndata = response.json()\n\n# Convert the data to a pandas DataFrame\ndf = pd.DataFrame(data)\n\n# Print the first few rows of the DataFrame\nprint(df.head())",
      "outputs": []
    },
    {
      "id": "2f39a50a-6d20-49ad-ada3-b30f4452d5c1",
      "cell_type": "code",
      "metadata": {
        "noteable": {
          "cell_type": "code",
          "output_collection_id": "2bd335eb-e727-449c-9f64-6a62fc4ce820"
        },
        "ExecuteTime": {
          "end_time": "2023-07-22T01:02:25.599309+00:00",
          "start_time": "2023-07-22T01:02:19.667874+00:00"
        }
      },
      "execution_count": null,
      "source": "!pip install vobject",
      "outputs": []
    }
  ]
}