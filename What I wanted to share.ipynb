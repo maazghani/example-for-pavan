{
  "nbformat": 4,
  "nbformat_minor": 5,
  "metadata": {
    "noteable-chatgpt": {
      "create_notebook": {
        "openai_conversation_id": "e33250a3-fa5c-578d-9195-a99908a16507",
        "openai_ephemeral_user_id": "9b725dc9-cfe9-56c9-872f-b327574f6485",
        "openai_subdivision1_iso_code": "US-WA"
      }
    }
  },
  "cells": []
}