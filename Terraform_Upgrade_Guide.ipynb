{
  "nbformat": 4,
  "nbformat_minor": 5,
  "metadata": {
    "noteable-chatgpt": {
      "create_notebook": {
        "openai_conversation_id": "88814a26-2a97-51fd-a879-6119997b360a",
        "openai_ephemeral_user_id": "e89852c8-42d9-5f17-b77c-866291951d8a",
        "openai_subdivision1_iso_code": "US-WA"
      }
    },
    "kernel_info": {
      "name": "python3"
    },
    "noteable": {
      "last_transaction_id": "6a475855-e64a-44cf-81e7-51db51b954b7"
    },
    "kernelspec": {
      "display_name": "Python 3.9",
      "language": "python",
      "name": "python3"
    },
    "selected_hardware_size": "small"
  },
  "cells": [
    {
      "id": "5e99f949-c409-4c15-8c23-9c6077e3bd02",
      "cell_type": "markdown",
      "source": "# Terraform Upgrade to 1.5.4",
      "metadata": {
        "noteable": {
          "cell_type": "markdown"
        }
      }
    },
    {
      "id": "45add9b2-02e8-4cde-8bcd-655b9658e997",
      "cell_type": "markdown",
      "source": "## Understanding Terraform 1.x Compatibility Promises\nBefore we dive into the specifics of the upgrade process, it's important to understand the compatibility promises made by HashiCorp for Terraform 1.x. These promises provide a framework for understanding what changes you can expect when upgrading to Terraform 1.x, and what parts of your existing Terraform codebase will continue to work as expected.\nHashiCorp has made the following key promises for Terraform 1.x:\n- **Backwards compatibility:** Any valid configuration written for a prior 1.x release will continue to work with future 1.x releases in the same way, except for rare cases involving bugs or security issues.\n- **Language improvements:** New language features may be added in minor releases, but they will be designed in such a way that existing configurations can adopt them incrementally.\n- **Provider behavior consistency:** The behavior of a provider will remain consistent across 1.x releases, unless the provider is explicitly upgraded to a new major version that includes breaking changes.\n- **Stability in the face of external changes:** If external systems under Terraform's control, such as cloud APIs, add, change, or remove features, those changes should not cause existing configurations to stop working as long as the underlying services continue to function as before.\nThese promises ensure that the upgrade process to Terraform 1.x is as smooth and predictable as possible.",
      "metadata": {
        "noteable": {
          "cell_type": "markdown"
        }
      }
    },
    {
      "id": "ea8a5f8c-2df5-40af-b573-95e3161056eb",
      "cell_type": "markdown",
      "source": "## Upgrading from Terraform 0.15.5 to 1.5.4\nNow that we understand the compatibility promises made by HashiCorp for Terraform 1.x, we can start to look at the specific steps involved in upgrading from Terraform 0.15.5 to 1.5.4.\nThe upgrade process involves a few key steps:\n1. **Unpinning the Terraform version:** The first step in the upgrade process is to remove the pinning of your Terraform codebase to Terraform 0.15.5. This involves updating any version constraints in your Terraform code to allow for the use of Terraform 1.5.4.\n2. **Running your plans:** Once you've unpinned your Terraform version, you can re-run your plans that didn't include drift using Terraform 1.5.4. This will allow you to see if there are any issues or changes that need to be addressed.\n3. **Addressing any issues:** If there are any issues or changes that need to be made as a result of running your plans with Terraform 1.5.4, you'll need to address these before you can complete the upgrade process. This could involve updating your Terraform code, adjusting your infrastructure, or making changes to your workflows.\n4. **Ensuring team members are using the correct version:** Finally, you'll need to ensure that all members of your team are using Terraform 1.5.4. This may involve updating any shared tooling or scripts, as well as communicating the change to your team.\nBy following these steps, you can ensure a smooth and successful upgrade to Terraform 1.5.4.",
      "metadata": {
        "noteable": {
          "cell_type": "markdown"
        }
      }
    }
  ]
}