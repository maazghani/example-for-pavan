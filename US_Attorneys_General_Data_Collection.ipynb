{
  "nbformat": 4,
  "nbformat_minor": 5,
  "metadata": {
    "noteable-chatgpt": {
      "create_notebook": {
        "openai_conversation_id": "17dc8db2-00ff-5c12-85b7-5dc9bfcccec3",
        "openai_ephemeral_user_id": "c607f455-92b2-5031-8b5a-c7d089135610",
        "openai_subdivision1_iso_code": "US-CA"
      }
    },
    "kernel_info": {
      "name": "python3"
    },
    "noteable": {
      "last_transaction_id": "07fb142e-3fc0-42bb-9d68-e19367cda6e4"
    },
    "kernelspec": {
      "display_name": "Python 3.9",
      "language": "python",
      "name": "python3"
    },
    "selected_hardware_size": "small"
  },
  "cells": [
    {
      "id": "fc62af1e-d1f3-4ca8-bdab-48873f4991ae",
      "cell_type": "code",
      "metadata": {
        "noteable": {
          "cell_type": "code",
          "output_collection_id": "8aa96d66-053c-4032-b158-2a1b2731078b"
        },
        "ExecuteTime": {
          "end_time": "2023-07-21T22:32:24.162702+00:00",
          "start_time": "2023-07-21T22:32:18.086998+00:00"
        }
      },
      "execution_count": null,
      "source": "!pip install -q requests bs4 pandas",
      "outputs": []
    },
    {
      "id": "64aa8501-ff57-468f-93dc-94d6bd273a89",
      "cell_type": "code",
      "metadata": {
        "noteable": {
          "cell_type": "code",
          "output_collection_id": "39487c58-c4d3-44a5-8447-7926ac8e60ee"
        },
        "ExecuteTime": {
          "end_time": "2023-07-21T22:32:51.009665+00:00",
          "start_time": "2023-07-21T22:32:49.860685+00:00"
        }
      },
      "execution_count": null,
      "source": "import requests\nfrom bs4 import BeautifulSoup\nimport pandas as pd\n\n# URL of the main page\nmain_url = 'https://www.justice.gov/usao/us-attorneys-listing'\n\n# Headers to mimic a browser visit\nheaders = {'User-Agent': 'Mozilla/5.0 (Windows NT 10.0; Win64; x64) AppleWebKit/537.36 (KHTML, like Gecko) Chrome/58.0.3029.110 Safari/537.3'}\n\n# Send a request to the website\nr = requests.get(main_url, headers=headers)\n\n# Parse the HTML content\nsoup = BeautifulSoup(r.text, 'html.parser')\n\n# Find all 'a' tags (which define hyperlinks) in the HTML content\na_tags = soup.find_all('a')\n\n# Filter the 'a' tags to get only the links to the state pages\nstate_links = [a['href'] for a in a_tags if 'usao' in a['href'] and 'state' in a['href']]\n\n# Print the state links\nstate_links",
      "outputs": []
    },
    {
      "id": "26244a96-e91d-4848-a19c-74abf0b252ec",
      "cell_type": "code",
      "metadata": {
        "noteable": {
          "cell_type": "code",
          "output_collection_id": "b2255a7a-bcbc-4a21-8bf9-e1cdb9d24e09"
        },
        "ExecuteTime": {
          "end_time": "2023-07-21T22:33:04.150723+00:00",
          "start_time": "2023-07-21T22:33:03.989832+00:00"
        }
      },
      "execution_count": null,
      "source": "# Filter the 'a' tags to get only the links to the state pages\nstate_links = [a['href'] for a in a_tags if 'href' in a.attrs and 'usao' in a['href'] and 'state' in a['href']]\n\n# Print the state links\nstate_links",
      "outputs": []
    },
    {
      "id": "4c9f58c0-1249-4732-8468-406ac2b737dc",
      "cell_type": "code",
      "metadata": {
        "noteable": {
          "cell_type": "code",
          "output_collection_id": "f2652ec4-d9a2-4b12-881d-db59164eb6d9"
        },
        "ExecuteTime": {
          "end_time": "2023-07-21T22:33:24.672371+00:00",
          "start_time": "2023-07-21T22:33:24.506876+00:00"
        }
      },
      "execution_count": null,
      "source": "# Find the table that contains the links to each state's page\ntable = soup.find('table')\n\n# Find all 'a' tags in the table\na_tags = table.find_all('a')\n\n# Filter the 'a' tags to get only the links to the state pages\nstate_links = [a['href'] for a in a_tags if 'href' in a.attrs and 'usao' in a['href']]\n\n# Print the state links\nstate_links",
      "outputs": []
    },
    {
      "id": "c2c3a190-5f70-49d7-a5d6-d2387d7b8ccb",
      "cell_type": "code",
      "metadata": {
        "noteable": {
          "cell_type": "code",
          "output_collection_id": "b3e791f2-c84a-4c6e-a533-e26fd510aaa4"
        },
        "ExecuteTime": {
          "end_time": "2023-07-21T22:33:50.199081+00:00",
          "start_time": "2023-07-21T22:33:49.742824+00:00"
        }
      },
      "execution_count": null,
      "source": "def scrape_state_page(link):\n    # Complete the link\n    link = 'https://www.justice.gov' + link\n\n    # Send a request to the state page\n    r = requests.get(link, headers=headers)\n\n    # Parse the HTML content of the state page\n    soup = BeautifulSoup(r.text, 'html.parser')\n\n    # Find the Attorney General's name and phone number in the HTML content\n    name = soup.find('h2').text.strip() if soup.find('h2') else 'N/A'\n    phone = soup.find('div', class_='field-item even').text.strip() if soup.find('div', class_='field-item even') else 'N/A'\n\n    return name, phone\n\n# Test the function on the first state page\nscrape_state_page(state_links[0])",
      "outputs": []
    },
    {
      "id": "f3f6399b-d95a-443f-b7a2-e0272200f3d4",
      "cell_type": "code",
      "metadata": {
        "noteable": {
          "cell_type": "code",
          "output_collection_id": "e1ebad5d-d524-4da5-86e1-2aff4771c79e"
        },
        "ExecuteTime": {
          "end_time": "2023-07-21T22:34:17.930929+00:00",
          "start_time": "2023-07-21T22:34:17.570402+00:00"
        }
      },
      "execution_count": null,
      "source": "def scrape_state_page(link):\n    # Complete the link\n    link = 'https://www.justice.gov' + link\n\n    # Send a request to the state page\n    r = requests.get(link, headers=headers)\n\n    # Parse the HTML content of the state page\n    soup = BeautifulSoup(r.text, 'html.parser')\n\n    # Find the Attorney General's name and phone number in the HTML content\n    name = soup.find('div', class_='field-name-field-attorney-name').text.strip() if soup.find('div', class_='field-name-field-attorney-name') else 'N/A'\n    phone = soup.find('div', class_='field-name-field-phone-number').text.strip() if soup.find('div', class_='field-name-field-phone-number') else 'N/A'\n\n    return name, phone\n\n# Test the function on the first state page\nscrape_state_page(state_links[0])",
      "outputs": []
    },
    {
      "id": "0d681311-d8ed-4771-9ea4-fd04fb71c8f0",
      "cell_type": "code",
      "metadata": {
        "noteable": {
          "cell_type": "code",
          "output_collection_id": "d4beef5e-e1f0-4efd-ac1b-346301c486f5"
        },
        "ExecuteTime": {
          "end_time": "2023-07-21T22:35:33.709141+00:00",
          "start_time": "2023-07-21T22:35:33.406793+00:00"
        }
      },
      "execution_count": null,
      "source": "def scrape_state_page(link):\n    # Complete the link\n    link = 'https://www.justice.gov' + link\n\n    # Headers to mimic a Chrome desktop browser\n    headers = {'User-Agent': 'Mozilla/5.0 (Windows NT 10.0; Win64; x64) AppleWebKit/537.36 (KHTML, like Gecko) Chrome/58.0.3029.110 Safari/537.3'}\n\n    # Send a request to the state page\n    r = requests.get(link, headers=headers)\n\n    # Parse the HTML content of the state page\n    soup = BeautifulSoup(r.text, 'html.parser')\n\n    # Find the Attorney General's name and phone number in the HTML content\n    name = soup.find('div', class_='field-name-field-attorney-name').text.strip() if soup.find('div', class_='field-name-field-attorney-name') else 'N/A'\n    phone = soup.find('div', class_='field-name-field-phone-number').text.strip() if soup.find('div', class_='field-name-field-phone-number') else 'N/A'\n\n    return name, phone\n\n# Test the function on the first state page\nscrape_state_page(state_links[0])",
      "outputs": []
    },
    {
      "id": "12142775-ab94-4f74-9094-17cfce95b158",
      "cell_type": "code",
      "metadata": {
        "noteable": {
          "cell_type": "code",
          "output_collection_id": "02bee284-769a-421e-bc11-4119ed591cc9"
        },
        "ExecuteTime": {
          "end_time": "2023-07-21T22:36:25.693699+00:00",
          "start_time": "2023-07-21T22:36:25.334837+00:00"
        }
      },
      "execution_count": null,
      "source": "def scrape_state_page(link):\n    # Complete the link\n    link = 'https://www.justice.gov' + link\n\n    # Headers to mimic a Chrome desktop browser\n    headers = {'User-Agent': 'Mozilla/5.0 (Windows NT 10.0; Win64; x64) AppleWebKit/537.36 (KHTML, like Gecko) Chrome/58.0.3029.110 Safari/537.3'}\n\n    # Send a request to the state page\n    r = requests.get(link, headers=headers)\n\n    # Parse the HTML content of the state page\n    soup = BeautifulSoup(r.text, 'html.parser')\n\n    # Find the Attorney General's name and phone number in the HTML content\n    name = soup.find('div', class_='field-name-field-attorney-name').text.strip() if soup.find('div', class_='field-name-field-attorney-name') else 'N/A'\n    phone = soup.find('div', class_='field-name-field-phone-number').text.strip() if soup.find('div', class_='field-name-field-phone-number') else 'N/A'\n\n    return name, phone\n\n# Test the function on the first state page\nscrape_state_page(state_links[0])",
      "outputs": []
    },
    {
      "id": "e8cddbc0-9a4e-453e-a68d-9154879c427d",
      "cell_type": "code",
      "metadata": {
        "noteable": {
          "cell_type": "code",
          "output_collection_id": "b210f53b-93c6-4995-bb1f-487300b9c8be"
        },
        "ExecuteTime": {
          "end_time": "2023-07-21T22:42:54.437191+00:00",
          "start_time": "2023-07-21T22:42:54.111969+00:00"
        }
      },
      "execution_count": null,
      "source": "def scrape_state_page(link):\n    # Complete the link\n    link = 'https://www.justice.gov' + link\n\n    # Headers to mimic a Chrome desktop browser\n    headers = {'User-Agent': 'Mozilla/5.0 (Macintosh; Intel Mac OS X 10_15_7) AppleWebKit/537.36 (KHTML, like Gecko) Chrome/114.0.0.0 Safari/537.36'}\n\n    # Send a request to the state page\n    r = requests.get(link, headers=headers)\n\n    # Parse the HTML content of the state page\n    soup = BeautifulSoup(r.text, 'html.parser')\n\n    # Find the Attorney General's name and phone number in the HTML content\n    name = soup.find('div', class_='field-name-field-attorney-name').text.strip() if soup.find('div', class_='field-name-field-attorney-name') else 'N/A'\n    phone = soup.find('div', class_='field-name-field-phone-number').text.strip() if soup.find('div', class_='field-name-field-phone-number') else 'N/A'\n\n    return name, phone\n\n# Test the function on the first state page\nscrape_state_page(state_links[0])",
      "outputs": []
    },
    {
      "id": "76c09f8b-201a-4a07-96e6-3c57c688724f",
      "cell_type": "code",
      "metadata": {
        "noteable": {
          "cell_type": "code",
          "output_collection_id": "cd9413b3-6cd0-490d-8432-5c8803e87362"
        },
        "ExecuteTime": {
          "end_time": "2023-07-21T22:45:18.815404+00:00",
          "start_time": "2023-07-21T22:45:18.474984+00:00"
        }
      },
      "execution_count": null,
      "source": "def scrape_state_page(link):\n    # Complete the link\n    link = 'https://www.justice.gov' + link\n\n    # Headers to mimic a Chrome desktop browser\n    headers = {\n        'authority': 'www.justice.gov',\n        'accept': 'text/html,application/xhtml+xml,application/xml;q=0.9,image/avif,image/webp,image/apng,*/*;q=0.8,application/signed-exchange;v=b3;q=0.7',\n        'accept-language': 'en-US,en;q=0.9,en-AU;q=0.8',\n        'cache-control': 'no-cache',\n        'cookie': 'nmstat=29f57c2b-9190-3007-20f3-040299fed6ed; _ga=GA1.2.1498636395.1689977476; _gid=GA1.2.1377488632.1689977476; _gat_GSA_ENOR0=1',\n        'pragma': 'no-cache',\n        'referer': 'https://www.justice.gov/usao/us-attorneys-listing',\n        'sec-ch-ua': '\"Not.A/Brand\";v=\"8\", \"Chromium\";v=\"114\", \"Google Chrome\";v=\"114\"',\n        'sec-ch-ua-mobile': '?0',\n        'sec-ch-ua-platform': '\"macOS\"',\n        'sec-fetch-dest': 'document',\n        'sec-fetch-mode': 'navigate',\n        'sec-fetch-site': 'same-origin',\n        'sec-fetch-user': '?1',\n        'upgrade-insecure-requests': '1',\n        'user-agent': 'Mozilla/5.0 (Macintosh; Intel Mac OS X 10_15_7) AppleWebKit/537.36 (KHTML, like Gecko) Chrome/114.0.0.0 Safari/537.36'\n    }\n\n    # Send a request to the state page\n    r = requests.get(link, headers=headers)\n\n    # Parse the HTML content of the state page\n    soup = BeautifulSoup(r.text, 'html.parser')\n\n    # Find the Attorney General's name and phone number in the HTML content\n    name = soup.find('div', class_='field-name-field-attorney-name').text.strip() if soup.find('div', class_='field-name-field-attorney-name') else 'N/A'\n    phone = soup.find('div', class_='field-name-field-phone-number').text.strip() if soup.find('div', class_='field-name-field-phone-number') else 'N/A'\n\n    return name, phone\n\n# Test the function on the first state page\nscrape_state_page(state_links[0])",
      "outputs": []
    }
  ]
}