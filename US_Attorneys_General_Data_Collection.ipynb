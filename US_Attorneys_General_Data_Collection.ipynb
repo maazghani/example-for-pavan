{
  "nbformat": 4,
  "nbformat_minor": 5,
  "metadata": {
    "noteable-chatgpt": {
      "create_notebook": {
        "openai_conversation_id": "17dc8db2-00ff-5c12-85b7-5dc9bfcccec3",
        "openai_ephemeral_user_id": "c607f455-92b2-5031-8b5a-c7d089135610",
        "openai_subdivision1_iso_code": "US-CA"
      }
    },
    "kernel_info": {
      "name": "python3"
    },
    "noteable": {
      "last_transaction_id": "4464afde-90f8-4fa1-bdcd-5b79abac8855"
    },
    "kernelspec": {
      "display_name": "Python 3.9",
      "language": "python",
      "name": "python3"
    }
  },
  "cells": [
    {
      "id": "fc62af1e-d1f3-4ca8-bdab-48873f4991ae",
      "cell_type": "code",
      "metadata": {
        "noteable": {
          "cell_type": "code"
        }
      },
      "execution_count": null,
      "source": "!pip install -q requests bs4 pandas",
      "outputs": []
    }
  ]
}