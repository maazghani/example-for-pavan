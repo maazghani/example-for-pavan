{
  "nbformat": 4,
  "nbformat_minor": 5,
  "metadata": {
    "noteable-chatgpt": {
      "create_notebook": {
        "openai_conversation_id": "17dc8db2-00ff-5c12-85b7-5dc9bfcccec3",
        "openai_ephemeral_user_id": "c607f455-92b2-5031-8b5a-c7d089135610",
        "openai_subdivision1_iso_code": "US-CA"
      }
    },
    "kernel_info": {
      "name": "python3"
    },
    "noteable": {
      "last_transaction_id": "4b89ffaf-08e9-4f22-85ae-190d19300d29"
    },
    "kernelspec": {
      "display_name": "Python 3.9",
      "language": "python",
      "name": "python3"
    },
    "selected_hardware_size": "small"
  },
  "cells": [
    {
      "id": "fc62af1e-d1f3-4ca8-bdab-48873f4991ae",
      "cell_type": "code",
      "metadata": {
        "noteable": {
          "cell_type": "code",
          "output_collection_id": "8aa96d66-053c-4032-b158-2a1b2731078b"
        },
        "ExecuteTime": {
          "end_time": "2023-07-21T22:32:24.162702+00:00",
          "start_time": "2023-07-21T22:32:18.086998+00:00"
        }
      },
      "execution_count": null,
      "source": "!pip install -q requests bs4 pandas",
      "outputs": []
    },
    {
      "id": "64aa8501-ff57-468f-93dc-94d6bd273a89",
      "cell_type": "code",
      "metadata": {
        "noteable": {
          "cell_type": "code",
          "output_collection_id": "39487c58-c4d3-44a5-8447-7926ac8e60ee"
        },
        "ExecuteTime": {
          "end_time": "2023-07-21T22:32:51.009665+00:00",
          "start_time": "2023-07-21T22:32:49.860685+00:00"
        }
      },
      "execution_count": null,
      "source": "import requests\nfrom bs4 import BeautifulSoup\nimport pandas as pd\n\n# URL of the main page\nmain_url = 'https://www.justice.gov/usao/us-attorneys-listing'\n\n# Headers to mimic a browser visit\nheaders = {'User-Agent': 'Mozilla/5.0 (Windows NT 10.0; Win64; x64) AppleWebKit/537.36 (KHTML, like Gecko) Chrome/58.0.3029.110 Safari/537.3'}\n\n# Send a request to the website\nr = requests.get(main_url, headers=headers)\n\n# Parse the HTML content\nsoup = BeautifulSoup(r.text, 'html.parser')\n\n# Find all 'a' tags (which define hyperlinks) in the HTML content\na_tags = soup.find_all('a')\n\n# Filter the 'a' tags to get only the links to the state pages\nstate_links = [a['href'] for a in a_tags if 'usao' in a['href'] and 'state' in a['href']]\n\n# Print the state links\nstate_links",
      "outputs": []
    },
    {
      "id": "26244a96-e91d-4848-a19c-74abf0b252ec",
      "cell_type": "code",
      "metadata": {
        "noteable": {
          "cell_type": "code",
          "output_collection_id": "b2255a7a-bcbc-4a21-8bf9-e1cdb9d24e09"
        },
        "ExecuteTime": {
          "end_time": "2023-07-21T22:33:04.150723+00:00",
          "start_time": "2023-07-21T22:33:03.989832+00:00"
        }
      },
      "execution_count": null,
      "source": "# Filter the 'a' tags to get only the links to the state pages\nstate_links = [a['href'] for a in a_tags if 'href' in a.attrs and 'usao' in a['href'] and 'state' in a['href']]\n\n# Print the state links\nstate_links",
      "outputs": []
    }
  ]
}