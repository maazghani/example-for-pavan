{
  "nbformat": 4,
  "nbformat_minor": 5,
  "metadata": {
    "noteable-chatgpt": {
      "create_notebook": {
        "openai_conversation_id": "17dc8db2-00ff-5c12-85b7-5dc9bfcccec3",
        "openai_ephemeral_user_id": "c607f455-92b2-5031-8b5a-c7d089135610",
        "openai_subdivision1_iso_code": "US-CA"
      }
    },
    "kernel_info": {
      "name": "python3"
    },
    "noteable": {
      "last_transaction_id": "23f6b56f-ad30-4666-81a1-6a486bd6e451"
    },
    "kernelspec": {
      "display_name": "Python 3.9",
      "language": "python",
      "name": "python3"
    }
  },
  "cells": [
    {
      "id": "fc62af1e-d1f3-4ca8-bdab-48873f4991ae",
      "cell_type": "code",
      "metadata": {
        "noteable": {
          "cell_type": "code",
          "output_collection_id": "8aa96d66-053c-4032-b158-2a1b2731078b"
        },
        "ExecuteTime": {
          "end_time": "2023-07-21T22:32:24.162702+00:00",
          "start_time": "2023-07-21T22:32:18.086998+00:00"
        }
      },
      "execution_count": null,
      "source": "!pip install -q requests bs4 pandas",
      "outputs": []
    }
  ]
}