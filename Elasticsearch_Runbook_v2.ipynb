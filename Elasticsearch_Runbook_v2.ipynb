{
  "nbformat": 4,
  "nbformat_minor": 5,
  "metadata": {
    "noteable-chatgpt": {
      "create_notebook": {
        "openai_conversation_id": "d43e4a58-13df-5d3b-8e64-1b49ea725cac",
        "openai_ephemeral_user_id": "5df9c841-3988-5bb2-9b96-f785101b3c84",
        "openai_subdivision1_iso_code": "US-WA"
      }
    },
    "kernel_info": {
      "name": "python3"
    },
    "noteable": {
      "last_transaction_id": "a7220568-facb-48f3-9860-1eb781e84afe"
    },
    "kernelspec": {
      "display_name": "Python 3.9",
      "language": "python",
      "name": "python3"
    }
  },
  "cells": [
    {
      "id": "35b09b92-70b9-48a5-b164-c2ae540dddd2",
      "cell_type": "markdown",
      "source": "# Elasticsearch Runbook\nThis runbook provides a systematic guide to monitor and troubleshoot Elasticsearch clusters. It includes scripts and explanations for various checks to ensure the health and performance of the cluster. The runbook is designed to be executed directly from this notebook, assuming network access, authentication, and credentials have been pre-configured in the kernel runners.",
      "metadata": {
        "noteable": {
          "cell_type": "markdown"
        }
      }
    },
    {
      "id": "bbedc078-2d09-41f1-946f-68df16cff466",
      "cell_type": "markdown",
      "source": "## Checking Cluster Health\nThis section focuses on checking the overall health of the Elasticsearch cluster. It retrieves the cluster's settings, which can provide insights into its current configuration and any modifications made post-deployment. Regularly monitoring these settings can help in identifying any misconfigurations or changes that might impact the cluster's performance or stability.",
      "metadata": {
        "noteable": {
          "cell_type": "markdown"
        }
      }
    },
    {
      "id": "4855645f-a016-48c4-af4d-ee8a7bc56200",
      "cell_type": "code",
      "metadata": {
        "noteable": {
          "cell_type": "code"
        }
      },
      "execution_count": null,
      "source": "# Script to check cluster health by retrieving cluster settings\nES7_URL_WITH_CREDS = 'YOUR_ELASTICSEARCH_ENDPOINT_WITH_CREDENTIALS'\nresponse = !curl -sSL -X GET \"{ES7_URL_WITH_CREDS}/_cluster/settings?include_defaults=true\"\nprint(response)",
      "outputs": []
    }
  ]
}